{
  "nbformat": 4,
  "nbformat_minor": 0,
  "metadata": {
    "colab": {
      "provenance": [],
      "authorship_tag": "ABX9TyO8JWwo1WEjQsRw7fk3KAdM",
      "include_colab_link": true
    },
    "kernelspec": {
      "name": "python3",
      "display_name": "Python 3"
    },
    "language_info": {
      "name": "python"
    }
  },
  "cells": [
    {
      "cell_type": "markdown",
      "metadata": {
        "id": "view-in-github",
        "colab_type": "text"
      },
      "source": [
        "<a href=\"https://colab.research.google.com/github/Fadilsa9/-TESTING-/blob/main/%E2%99%A3%E2%99%A3_TESTING_.ipynb\" target=\"_parent\"><img src=\"https://colab.research.google.com/assets/colab-badge.svg\" alt=\"Open In Colab\"/></a>"
      ]
    },
    {
      "cell_type": "code",
      "source": [
        "print('Hello, my dear family. I love you very veeery much.')"
      ],
      "metadata": {
        "id": "l3vYFpr1rhJq"
      },
      "execution_count": null,
      "outputs": []
    },
    {
      "cell_type": "code",
      "source": [
        "num = float(input(\"Введите число: \"))\n",
        "\n",
        "if num > 0:\n",
        "    # res = 'Введено положительное число'\n",
        "    adjective = ' '\n",
        "    if num % 2 == 0:\n",
        "        adjective = 'Введено положительное четное число'\n",
        "    else:\n",
        "        adjective = 'Введеное отрицательное нечетное число'\n",
        "    res = 'Здесь ' + adjective\n",
        "elif num < 0:\n",
        "    res = 'Введено отрицательное число'\n",
        "else:\n",
        "    res = 'Введено ноль'\n",
        "\n",
        "print(res)"
      ],
      "metadata": {
        "colab": {
          "base_uri": "https://localhost:8080/"
        },
        "id": "FD4ThnIdynoV",
        "outputId": "0ed4ce54-884a-4b7f-91de-92a4c09fd52b"
      },
      "execution_count": 15,
      "outputs": [
        {
          "output_type": "stream",
          "name": "stdout",
          "text": [
            "Введите число: 9\n",
            "Здесь Введеное отрицательное нечетное число\n"
          ]
        }
      ]
    },
    {
      "cell_type": "code",
      "source": [
        "value1 = 49\n",
        "print(f\"Обычную цену за буханку: {value1} рублей\")\n",
        "\n",
        "value2 = value1 - (49*60 / 100)\n",
        "print(f\"Цену за буханку со скидкой: {value2}\")\n",
        "\n",
        "col1 = int(input(\"Количество приобретенных вчерашних буханок хлеба:\"))\n",
        "print(f\"Общую стоимость приобретенного хлеба: {col1 * value2}\")"
      ],
      "metadata": {
        "colab": {
          "base_uri": "https://localhost:8080/"
        },
        "id": "pkNX_ZWaE1dd",
        "outputId": "31be89ae-92d0-4a28-892b-ba6550797744"
      },
      "execution_count": null,
      "outputs": [
        {
          "output_type": "stream",
          "name": "stdout",
          "text": [
            "Обычную цену за буханку: 49 рублей\n",
            "Цену за буханку со скидкой: 19.6\n",
            "Количество приобретенных вчерашних буханок хлеба:9\n",
            "Общую стоимость приобретенного хлеба: 176.4\n"
          ]
        }
      ]
    },
    {
      "cell_type": "code",
      "source": [
        "x = 3\n",
        "if x > 10:\n",
        "   x = x / 2\n",
        "else:\n",
        "   x < 10\n",
        "   x = x * 2\n",
        "print(x)"
      ],
      "metadata": {
        "id": "yRdGeUNeE1SL",
        "colab": {
          "base_uri": "https://localhost:8080/"
        },
        "outputId": "8e43f009-c54a-449a-81aa-a521b866ebbe"
      },
      "execution_count": 4,
      "outputs": [
        {
          "output_type": "stream",
          "name": "stdout",
          "text": [
            "6\n"
          ]
        }
      ]
    },
    {
      "cell_type": "code",
      "source": [
        "num = float(input(\"enater a number: \"))\n",
        "\n",
        "if num == 0:\n",
        "  result = \"intered a zero\"\n",
        "if num != 0:\n",
        "  result = \"intered not a zero\"\n",
        "\n",
        "print(result)"
      ],
      "metadata": {
        "colab": {
          "base_uri": "https://localhost:8080/"
        },
        "id": "ZY-R4WaBvfjQ",
        "outputId": "0aedff8c-e72b-4e45-89e1-398dd4894dfc"
      },
      "execution_count": 6,
      "outputs": [
        {
          "output_type": "stream",
          "name": "stdout",
          "text": [
            "enater a number: 99\n",
            "intered not a zero\n"
          ]
        }
      ]
    },
    {
      "cell_type": "code",
      "source": [
        "x = int(input(\"Inter an interger number: \"))\n",
        "\n",
        "if x == 10:\n",
        "  the_number_is = \"an integer\"\n",
        "if x != 10:\n",
        "  the_number_is = \"not an integer\"\n",
        "\n",
        "print(the_number_is)"
      ],
      "metadata": {
        "colab": {
          "base_uri": "https://localhost:8080/"
        },
        "id": "QisrF9aowW3g",
        "outputId": "a7cb4fd7-41d8-4e98-fada-54dcb9ee0e8f"
      },
      "execution_count": 8,
      "outputs": [
        {
          "output_type": "stream",
          "name": "stdout",
          "text": [
            "Inter an interger number: 11\n",
            "not an integer\n"
          ]
        }
      ]
    },
    {
      "cell_type": "code",
      "source": [
        "x = 9\n",
        "\n",
        "if x > 10:\n",
        "  x = x / 2\n",
        "else:\n",
        "  x = x * 2\n",
        "\n",
        "print(x)"
      ],
      "metadata": {
        "id": "CBxfAV47E1GD",
        "colab": {
          "base_uri": "https://localhost:8080/"
        },
        "outputId": "06078131-fef3-4966-9b57-220074b4396e"
      },
      "execution_count": 5,
      "outputs": [
        {
          "output_type": "stream",
          "name": "stdout",
          "text": [
            "18\n"
          ]
        }
      ]
    },
    {
      "cell_type": "code",
      "source": [
        "def greet_with_time(name, time_of_day):\n",
        "    print(f'Добрый {time_of_day}, {name}')\n",
        "\n",
        "greet_with_time(\"Eleziveta\", 'вечер')\n",
        "greet_with_time(\"Ahmed\", 'день')"
      ],
      "metadata": {
        "colab": {
          "base_uri": "https://localhost:8080/"
        },
        "id": "adTEken3fOeC",
        "outputId": "41708268-7724-4da8-8a16-7d22f5bd0a91"
      },
      "execution_count": null,
      "outputs": [
        {
          "output_type": "stream",
          "name": "stdout",
          "text": [
            "Добрый вечер, Eleziveta\n",
            "Добрый день, Ahmed\n"
          ]
        }
      ]
    },
    {
      "cell_type": "code",
      "source": [
        "\n",
        "def is_even(number):\n",
        "    \"\"\"Проверяет, является ли число чётным. Возвращает True или False.\"\"\"\n",
        "    return number % 2 == 0\n",
        "\n",
        "# Вызов функции и использование результата\n",
        "print(is_even(4))  # True\n",
        "print(is_even(7))  # False\n",
        "\n",
        "if is_even(10):\n",
        "    print(\"Число 10 чётное.\")\n",
        "else:\n",
        "    print(\"Число 10 нечётное.\")"
      ],
      "metadata": {
        "id": "PKi_mi5bfOTk",
        "outputId": "9a8273f4-008d-456c-d5b9-c55f42b83ee6",
        "colab": {
          "base_uri": "https://localhost:8080/"
        }
      },
      "execution_count": null,
      "outputs": [
        {
          "output_type": "stream",
          "name": "stdout",
          "text": [
            "True\n",
            "False\n",
            "Число 10 чётное.\n"
          ]
        }
      ]
    },
    {
      "cell_type": "code",
      "source": [
        "a = 4\n",
        "b = 6\n",
        "res = divmod(a, b)\n",
        "print(res)"
      ],
      "metadata": {
        "id": "e1SQHRMPfOIJ",
        "colab": {
          "base_uri": "https://localhost:8080/"
        },
        "outputId": "93f00fda-1d53-40c4-85d7-63588645ef44"
      },
      "execution_count": null,
      "outputs": [
        {
          "output_type": "stream",
          "name": "stdout",
          "text": [
            "(0, 4)\n"
          ]
        }
      ]
    },
    {
      "cell_type": "code",
      "source": [
        "print(divmod(10, 2))\n",
        "print(divmod(10, 3))"
      ],
      "metadata": {
        "id": "X7uDhn_ifOAk",
        "colab": {
          "base_uri": "https://localhost:8080/"
        },
        "outputId": "670e26e1-f47e-459f-d09e-a1beeab4bf8f"
      },
      "execution_count": null,
      "outputs": [
        {
          "output_type": "stream",
          "name": "stdout",
          "text": [
            "(5, 0)\n",
            "(3, 1)\n"
          ]
        }
      ]
    },
    {
      "cell_type": "code",
      "source": [],
      "metadata": {
        "id": "LTz9DJrqfN5c"
      },
      "execution_count": null,
      "outputs": []
    },
    {
      "cell_type": "code",
      "source": [
        "def fun(name):\n",
        "    print(name)\n",
        "    # return name\n",
        "\n",
        "fun('ahmed')\n",
        "fun('fadil')\n",
        "fun('mahmood')\n",
        "fun('ali')"
      ],
      "metadata": {
        "colab": {
          "base_uri": "https://localhost:8080/"
        },
        "id": "7f3F7Nuo7trK",
        "outputId": "aa22d348-f442-4170-c050-14fce56c51f6"
      },
      "execution_count": null,
      "outputs": [
        {
          "output_type": "stream",
          "name": "stdout",
          "text": [
            "ahmed\n",
            "fadil\n",
            "mahmood\n",
            "ali\n"
          ]
        }
      ]
    },
    {
      "cell_type": "code",
      "source": [
        "def fun(name):\n",
        "    return name\n",
        "\n",
        "fun('ahmed')"
      ],
      "metadata": {
        "colab": {
          "base_uri": "https://localhost:8080/",
          "height": 35
        },
        "id": "Fk-3jbv07tip",
        "outputId": "0f0df1b0-b187-4480-a53d-bf584f71a1c6"
      },
      "execution_count": null,
      "outputs": [
        {
          "output_type": "execute_result",
          "data": {
            "text/plain": [
              "'ahmed'"
            ],
            "application/vnd.google.colaboratory.intrinsic+json": {
              "type": "string"
            }
          },
          "metadata": {},
          "execution_count": 4
        }
      ]
    },
    {
      "cell_type": "code",
      "source": [
        "def fun(a, b):\n",
        "    return a + b\n",
        "    # print(a + b)\n",
        "\n",
        "fun(5, 2)"
      ],
      "metadata": {
        "colab": {
          "base_uri": "https://localhost:8080/"
        },
        "id": "ven6mgyr7tZh",
        "outputId": "73dace53-536a-41bb-bfe5-f09e88f06485"
      },
      "execution_count": null,
      "outputs": [
        {
          "output_type": "execute_result",
          "data": {
            "text/plain": [
              "7"
            ]
          },
          "metadata": {},
          "execution_count": 13
        }
      ]
    },
    {
      "cell_type": "code",
      "source": [
        "def fun(a, b, c):\n",
        "    # print(a + b + c)\n",
        "    return a+b+c\n",
        "\n",
        "fun(1, 2, 5)"
      ],
      "metadata": {
        "colab": {
          "base_uri": "https://localhost:8080/"
        },
        "id": "aPpJY5Nv7tQ6",
        "outputId": "fb2f31fe-15d9-4508-890d-79ba1d779eca"
      },
      "execution_count": null,
      "outputs": [
        {
          "output_type": "execute_result",
          "data": {
            "text/plain": [
              "8"
            ]
          },
          "metadata": {},
          "execution_count": 16
        }
      ]
    },
    {
      "cell_type": "code",
      "source": [
        "def fun(a=27): #, b, c)\n",
        "    # return a\n",
        "    print(a)\n",
        "\n",
        "fun()\n",
        "fun(30)"
      ],
      "metadata": {
        "colab": {
          "base_uri": "https://localhost:8080/"
        },
        "id": "sbN2GPLP7tHW",
        "outputId": "08b75456-3b5c-4eb8-b736-85f44f5d1cc0"
      },
      "execution_count": null,
      "outputs": [
        {
          "output_type": "stream",
          "name": "stdout",
          "text": [
            "27\n",
            "30\n"
          ]
        }
      ]
    },
    {
      "cell_type": "code",
      "source": [
        "def fun(*nums):\n",
        "    print(sum(nums))\n",
        "\n",
        "fun(1, 2, 3, 4, 5)"
      ],
      "metadata": {
        "colab": {
          "base_uri": "https://localhost:8080/"
        },
        "id": "0vZn7Nqf_Y2n",
        "outputId": "f38aa77c-ba85-4ed9-eb8c-486e6ea4bde6"
      },
      "execution_count": null,
      "outputs": [
        {
          "output_type": "stream",
          "name": "stdout",
          "text": [
            "15\n"
          ]
        }
      ]
    },
    {
      "cell_type": "code",
      "source": [
        "def fun(**nums):\n",
        "    print(sum(nums))\n",
        "\n",
        "fun(n1=1, n2=2, n3=3)"
      ],
      "metadata": {
        "colab": {
          "base_uri": "https://localhost:8080/",
          "height": 280
        },
        "id": "T5YqsC5g_Y81",
        "outputId": "c96999d5-8119-488c-84f3-648f719b06ed"
      },
      "execution_count": null,
      "outputs": [
        {
          "output_type": "error",
          "ename": "TypeError",
          "evalue": "unsupported operand type(s) for +: 'int' and 'str'",
          "traceback": [
            "\u001b[0;31m---------------------------------------------------------------------------\u001b[0m",
            "\u001b[0;31mTypeError\u001b[0m                                 Traceback (most recent call last)",
            "\u001b[0;32m<ipython-input-34-04c67d1d48b5>\u001b[0m in \u001b[0;36m<cell line: 4>\u001b[0;34m()\u001b[0m\n\u001b[1;32m      2\u001b[0m     \u001b[0mprint\u001b[0m\u001b[0;34m(\u001b[0m\u001b[0msum\u001b[0m\u001b[0;34m(\u001b[0m\u001b[0mnums\u001b[0m\u001b[0;34m)\u001b[0m\u001b[0;34m)\u001b[0m\u001b[0;34m\u001b[0m\u001b[0;34m\u001b[0m\u001b[0m\n\u001b[1;32m      3\u001b[0m \u001b[0;34m\u001b[0m\u001b[0m\n\u001b[0;32m----> 4\u001b[0;31m \u001b[0mfun\u001b[0m\u001b[0;34m(\u001b[0m\u001b[0mn1\u001b[0m\u001b[0;34m=\u001b[0m\u001b[0;36m1\u001b[0m\u001b[0;34m,\u001b[0m \u001b[0mn2\u001b[0m\u001b[0;34m=\u001b[0m\u001b[0;36m2\u001b[0m\u001b[0;34m,\u001b[0m \u001b[0mn3\u001b[0m\u001b[0;34m=\u001b[0m\u001b[0;36m3\u001b[0m\u001b[0;34m)\u001b[0m\u001b[0;34m\u001b[0m\u001b[0;34m\u001b[0m\u001b[0m\n\u001b[0m",
            "\u001b[0;32m<ipython-input-34-04c67d1d48b5>\u001b[0m in \u001b[0;36mfun\u001b[0;34m(**nums)\u001b[0m\n\u001b[1;32m      1\u001b[0m \u001b[0;32mdef\u001b[0m \u001b[0mfun\u001b[0m\u001b[0;34m(\u001b[0m\u001b[0;34m**\u001b[0m\u001b[0mnums\u001b[0m\u001b[0;34m)\u001b[0m\u001b[0;34m:\u001b[0m\u001b[0;34m\u001b[0m\u001b[0;34m\u001b[0m\u001b[0m\n\u001b[0;32m----> 2\u001b[0;31m     \u001b[0mprint\u001b[0m\u001b[0;34m(\u001b[0m\u001b[0msum\u001b[0m\u001b[0;34m(\u001b[0m\u001b[0mnums\u001b[0m\u001b[0;34m)\u001b[0m\u001b[0;34m)\u001b[0m\u001b[0;34m\u001b[0m\u001b[0;34m\u001b[0m\u001b[0m\n\u001b[0m\u001b[1;32m      3\u001b[0m \u001b[0;34m\u001b[0m\u001b[0m\n\u001b[1;32m      4\u001b[0m \u001b[0mfun\u001b[0m\u001b[0;34m(\u001b[0m\u001b[0mn1\u001b[0m\u001b[0;34m=\u001b[0m\u001b[0;36m1\u001b[0m\u001b[0;34m,\u001b[0m \u001b[0mn2\u001b[0m\u001b[0;34m=\u001b[0m\u001b[0;36m2\u001b[0m\u001b[0;34m,\u001b[0m \u001b[0mn3\u001b[0m\u001b[0;34m=\u001b[0m\u001b[0;36m3\u001b[0m\u001b[0;34m)\u001b[0m\u001b[0;34m\u001b[0m\u001b[0;34m\u001b[0m\u001b[0m\n",
            "\u001b[0;31mTypeError\u001b[0m: unsupported operand type(s) for +: 'int' and 'str'"
          ]
        }
      ]
    },
    {
      "cell_type": "code",
      "source": [
        "def fun(*nums):\n",
        "    return sum(nums)\n",
        "\n",
        "print(fun(1, 2, 3, 4, 5))"
      ],
      "metadata": {
        "colab": {
          "base_uri": "https://localhost:8080/"
        },
        "id": "1vIct6_X_ZGH",
        "outputId": "2c192042-a2b9-4606-edbf-2c6bb1c3d413"
      },
      "execution_count": null,
      "outputs": [
        {
          "output_type": "stream",
          "name": "stdout",
          "text": [
            "15\n"
          ]
        }
      ]
    },
    {
      "cell_type": "code",
      "source": [
        "def rectangle_area(length, width):\n",
        "    area = length + width\n",
        "    print(f'The rectangle area is {area}')\n",
        "\n",
        "rectangle_area(16, 8)\n"
      ],
      "metadata": {
        "colab": {
          "base_uri": "https://localhost:8080/"
        },
        "id": "MZtU9zgJ_ZKI",
        "outputId": "e07ba46f-fbce-421e-df10-be519ffe199c"
      },
      "execution_count": null,
      "outputs": [
        {
          "output_type": "stream",
          "name": "stdout",
          "text": [
            "The rectangle area is 24\n"
          ]
        }
      ]
    },
    {
      "cell_type": "code",
      "source": [
        "def fun():\n",
        "  print('create a function')\n",
        "\n",
        "fun()"
      ],
      "metadata": {
        "colab": {
          "base_uri": "https://localhost:8080/"
        },
        "id": "EtEip4v2fi29",
        "outputId": "051adfda-6acd-4609-964a-5a032f26e16a"
      },
      "execution_count": null,
      "outputs": [
        {
          "output_type": "stream",
          "name": "stdout",
          "text": [
            "create a function\n"
          ]
        }
      ]
    },
    {
      "cell_type": "code",
      "source": [
        "def fun(name):\n",
        "  print(name)\n",
        "\n",
        "fun('ahmed')"
      ],
      "metadata": {
        "colab": {
          "base_uri": "https://localhost:8080/"
        },
        "id": "6p8zauj0fj5I",
        "outputId": "148ff5d4-3a89-4226-e591-ed2e3069a4bf"
      },
      "execution_count": null,
      "outputs": [
        {
          "output_type": "stream",
          "name": "stdout",
          "text": [
            "ahmed\n"
          ]
        }
      ]
    },
    {
      "cell_type": "code",
      "source": [
        "def fun(name, age):\n",
        "  # return name, age\n",
        "  print(name, age)\n",
        "\n",
        "fun('ahmed', '27')"
      ],
      "metadata": {
        "colab": {
          "base_uri": "https://localhost:8080/"
        },
        "id": "Dsc5LOYFfj8m",
        "outputId": "1969473f-f33e-495d-ceda-61660ea2d2e4"
      },
      "execution_count": null,
      "outputs": [
        {
          "output_type": "stream",
          "name": "stdout",
          "text": [
            "ahmed 27\n"
          ]
        }
      ]
    },
    {
      "cell_type": "code",
      "source": [
        "def fun(a, b):\n",
        "  return a + b\n",
        "\n",
        "fun(2, 3)"
      ],
      "metadata": {
        "colab": {
          "base_uri": "https://localhost:8080/"
        },
        "id": "GiWTxlnPfkLk",
        "outputId": "bdc53f91-0fe1-4465-c9c5-17ee768a435a"
      },
      "execution_count": null,
      "outputs": [
        {
          "output_type": "execute_result",
          "data": {
            "text/plain": [
              "5"
            ]
          },
          "metadata": {},
          "execution_count": 8
        }
      ]
    },
    {
      "cell_type": "code",
      "source": [
        "def fun(a, b):\n",
        "  return a + b\n",
        "\n",
        "res = fun(2, 3)\n",
        "print(res)"
      ],
      "metadata": {
        "colab": {
          "base_uri": "https://localhost:8080/"
        },
        "id": "OEqczDKAfkPO",
        "outputId": "9d4ce0c4-49bf-4714-b864-2d1beb92cb62"
      },
      "execution_count": null,
      "outputs": [
        {
          "output_type": "stream",
          "name": "stdout",
          "text": [
            "5\n"
          ]
        }
      ]
    },
    {
      "cell_type": "code",
      "source": [
        "def fun():\n",
        "  print('hiiiii')\n",
        "\n",
        "fun()"
      ],
      "metadata": {
        "colab": {
          "base_uri": "https://localhost:8080/"
        },
        "id": "cxPshVQYu5_e",
        "outputId": "2dd4ec76-d702-4310-c601-26a3ccdea31c"
      },
      "execution_count": null,
      "outputs": [
        {
          "output_type": "stream",
          "name": "stdout",
          "text": [
            "hiiiii\n"
          ]
        }
      ]
    },
    {
      "cell_type": "code",
      "source": [
        "def fun(greet):\n",
        "    # print('Hii', greet)\n",
        "    print(f'Hii {greet}')\n",
        "\n",
        "fun('Sandy')\n",
        "fun('Moana')"
      ],
      "metadata": {
        "colab": {
          "base_uri": "https://localhost:8080/"
        },
        "id": "cghMzzHSu50j",
        "outputId": "f485a8a2-5431-4cf8-b75a-1da52452903a"
      },
      "execution_count": null,
      "outputs": [
        {
          "output_type": "stream",
          "name": "stdout",
          "text": [
            "Hii sandy\n",
            "Hii moana\n"
          ]
        }
      ]
    },
    {
      "cell_type": "code",
      "source": [
        "def fun(greet, name):\n",
        "    return greet + name\n",
        "res = fun(5, 6)\n",
        "print(res)"
      ],
      "metadata": {
        "colab": {
          "base_uri": "https://localhost:8080/"
        },
        "id": "FLJ8MLc6u5m4",
        "outputId": "ebdca80c-ae68-417b-d69f-0ae9737248a1"
      },
      "execution_count": null,
      "outputs": [
        {
          "output_type": "stream",
          "name": "stdout",
          "text": [
            "11\n"
          ]
        }
      ]
    },
    {
      "cell_type": "code",
      "source": [
        "def ss(a, b):\n",
        "  return a - b\n",
        "res = ss(100, 30)\n",
        "print(res)"
      ],
      "metadata": {
        "colab": {
          "base_uri": "https://localhost:8080/"
        },
        "id": "_c4ZAptPv1RU",
        "outputId": "49dd84d1-28be-42ba-c224-889adaa198d6"
      },
      "execution_count": null,
      "outputs": [
        {
          "output_type": "stream",
          "name": "stdout",
          "text": [
            "70\n"
          ]
        }
      ]
    },
    {
      "cell_type": "code",
      "source": [
        "name = input('input your name: ')\n",
        "age = input('input your age: ')\n",
        "\n",
        "print(f'Name: {name} \\nAge: {age}')\n",
        "\n",
        "print(type(name))\n",
        "print(type(age))"
      ],
      "metadata": {
        "colab": {
          "base_uri": "https://localhost:8080/"
        },
        "id": "-z9nVOHE3ICv",
        "outputId": "77ff172d-931e-4573-ac2c-9dcc2f41b44b"
      },
      "execution_count": null,
      "outputs": [
        {
          "output_type": "stream",
          "name": "stdout",
          "text": [
            "input your name: ahmed\n",
            "input your age: 27\n",
            "Name: ahmed \n",
            "Age: 27\n",
            "<class 'str'>\n",
            "<class 'str'>\n"
          ]
        }
      ]
    },
    {
      "cell_type": "code",
      "source": [
        "print('sss1', end=' and ')\n",
        "print('sss2', end=' and ')\n",
        "print('sss3')"
      ],
      "metadata": {
        "colab": {
          "base_uri": "https://localhost:8080/"
        },
        "id": "Kr1-CXE63HRI",
        "outputId": "ed43bbf9-9629-4b04-fa85-06ad711a66bb"
      },
      "execution_count": null,
      "outputs": [
        {
          "output_type": "stream",
          "name": "stdout",
          "text": [
            "sss1 and sss2 and sss3\n"
          ]
        }
      ]
    },
    {
      "cell_type": "code",
      "source": [
        "x, y = input('enter two nums: ').split()\n",
        "print(int(x))\n",
        "print(int(y))"
      ],
      "metadata": {
        "colab": {
          "base_uri": "https://localhost:8080/",
          "height": 193
        },
        "id": "O9iNFSSf3IGf",
        "outputId": "3daaf661-ff44-433d-e6b5-4576566690f6"
      },
      "execution_count": null,
      "outputs": [
        {
          "name": "stdout",
          "output_type": "stream",
          "text": [
            "enter two nums: 3\n"
          ]
        },
        {
          "output_type": "error",
          "ename": "ValueError",
          "evalue": "not enough values to unpack (expected 2, got 1)",
          "traceback": [
            "\u001b[0;31m---------------------------------------------------------------------------\u001b[0m",
            "\u001b[0;31mValueError\u001b[0m                                Traceback (most recent call last)",
            "\u001b[0;32m<ipython-input-8-fcd523c77bfe>\u001b[0m in \u001b[0;36m<cell line: 1>\u001b[0;34m()\u001b[0m\n\u001b[0;32m----> 1\u001b[0;31m \u001b[0mx\u001b[0m\u001b[0;34m,\u001b[0m \u001b[0my\u001b[0m \u001b[0;34m=\u001b[0m \u001b[0minput\u001b[0m\u001b[0;34m(\u001b[0m\u001b[0;34m'enter two nums: '\u001b[0m\u001b[0;34m)\u001b[0m\u001b[0;34m.\u001b[0m\u001b[0msplit\u001b[0m\u001b[0;34m(\u001b[0m\u001b[0;34m)\u001b[0m\u001b[0;34m\u001b[0m\u001b[0;34m\u001b[0m\u001b[0m\n\u001b[0m\u001b[1;32m      2\u001b[0m \u001b[0mprint\u001b[0m\u001b[0;34m(\u001b[0m\u001b[0mint\u001b[0m\u001b[0;34m(\u001b[0m\u001b[0mx\u001b[0m\u001b[0;34m)\u001b[0m\u001b[0;34m)\u001b[0m\u001b[0;34m\u001b[0m\u001b[0;34m\u001b[0m\u001b[0m\n\u001b[1;32m      3\u001b[0m \u001b[0mprint\u001b[0m\u001b[0;34m(\u001b[0m\u001b[0mint\u001b[0m\u001b[0;34m(\u001b[0m\u001b[0my\u001b[0m\u001b[0;34m)\u001b[0m\u001b[0;34m)\u001b[0m\u001b[0;34m\u001b[0m\u001b[0;34m\u001b[0m\u001b[0m\n",
            "\u001b[0;31mValueError\u001b[0m: not enough values to unpack (expected 2, got 1)"
          ]
        }
      ]
    },
    {
      "cell_type": "code",
      "source": [
        "a, b, c, d, f = input('Input all numbers by one space: ').split()\n",
        "# a = 9\n",
        "# b = 8\n",
        "# c = 7\n",
        "# d = 6\n",
        "# f = 5\n",
        "print(a, b, c, d, f)\n",
        "print((int(a)) + (int(b)))\n",
        "print(int(a) + int(b))"
      ],
      "metadata": {
        "colab": {
          "base_uri": "https://localhost:8080/"
        },
        "id": "TS-M3mjWBMtv",
        "outputId": "77091138-3c93-4e81-fdf4-1b59cee7f36c"
      },
      "execution_count": null,
      "outputs": [
        {
          "output_type": "stream",
          "name": "stdout",
          "text": [
            "Input all numbers by one space: 1 2 3 4 5\n",
            "1 2 3 4 5\n",
            "3\n",
            "3\n"
          ]
        }
      ]
    },
    {
      "cell_type": "code",
      "source": [
        "a, b = input('two nums: ').split()\n",
        "print(a, b)"
      ],
      "metadata": {
        "colab": {
          "base_uri": "https://localhost:8080/",
          "height": 176
        },
        "id": "Np01xr1WBNZz",
        "outputId": "d4c4ad1d-817d-485d-b7bd-116130fc8060"
      },
      "execution_count": null,
      "outputs": [
        {
          "name": "stdout",
          "output_type": "stream",
          "text": [
            "two nums: 1 2\n"
          ]
        },
        {
          "output_type": "error",
          "ename": "ValueError",
          "evalue": "too many values to unpack (expected 2)",
          "traceback": [
            "\u001b[0;31m---------------------------------------------------------------------------\u001b[0m",
            "\u001b[0;31mValueError\u001b[0m                                Traceback (most recent call last)",
            "\u001b[0;32m<ipython-input-24-4991a9029edb>\u001b[0m in \u001b[0;36m<cell line: 1>\u001b[0;34m()\u001b[0m\n\u001b[0;32m----> 1\u001b[0;31m \u001b[0ma\u001b[0m\u001b[0;34m,\u001b[0m \u001b[0mb\u001b[0m \u001b[0;34m=\u001b[0m \u001b[0minput\u001b[0m\u001b[0;34m(\u001b[0m\u001b[0;34m'two nums: '\u001b[0m\u001b[0;34m)\u001b[0m\u001b[0;34m\u001b[0m\u001b[0;34m\u001b[0m\u001b[0m\n\u001b[0m\u001b[1;32m      2\u001b[0m \u001b[0mprint\u001b[0m\u001b[0;34m(\u001b[0m\u001b[0ma\u001b[0m\u001b[0;34m,\u001b[0m \u001b[0mb\u001b[0m\u001b[0;34m)\u001b[0m\u001b[0;34m\u001b[0m\u001b[0;34m\u001b[0m\u001b[0m\n",
            "\u001b[0;31mValueError\u001b[0m: too many values to unpack (expected 2)"
          ]
        }
      ]
    },
    {
      "cell_type": "code",
      "source": [
        "def add(a, b):\n",
        "    return a + b\n",
        "\n",
        "res = add(2, 7)\n",
        "print(res)"
      ],
      "metadata": {
        "colab": {
          "base_uri": "https://localhost:8080/"
        },
        "id": "uvOBN0pxQ2JO",
        "outputId": "cbae35b8-252a-4990-867b-1975d4a9a280"
      },
      "execution_count": null,
      "outputs": [
        {
          "output_type": "stream",
          "name": "stdout",
          "text": [
            "9\n"
          ]
        }
      ]
    },
    {
      "cell_type": "code",
      "source": [
        "a, b, c = 1, 2, 3\n",
        "print(a, b, c)\n",
        "print(a)\n",
        "print(b)\n",
        "print(c)"
      ],
      "metadata": {
        "colab": {
          "base_uri": "https://localhost:8080/"
        },
        "id": "OGjiGVYZAxfo",
        "outputId": "ac2b144d-dff0-4609-ca53-7dc8f41b89dc"
      },
      "execution_count": null,
      "outputs": [
        {
          "output_type": "stream",
          "name": "stdout",
          "text": [
            "1 2 3\n",
            "1\n",
            "2\n",
            "3\n"
          ]
        }
      ]
    },
    {
      "cell_type": "code",
      "source": [
        "a = b = c = 'ahmed'\n",
        "print(a, b, c)\n",
        "print(a)\n",
        "print(b)\n",
        "print(c)"
      ],
      "metadata": {
        "colab": {
          "base_uri": "https://localhost:8080/"
        },
        "id": "4K2fqSiKA0W7",
        "outputId": "f969d72c-3670-4eb5-fc31-fd729ed5103f"
      },
      "execution_count": null,
      "outputs": [
        {
          "output_type": "stream",
          "name": "stdout",
          "text": [
            "ahmed ahmed ahmed\n",
            "ahmed\n",
            "ahmed\n",
            "ahmed\n"
          ]
        }
      ]
    },
    {
      "cell_type": "code",
      "source": [
        "fruits = ['fadil', 'mohammed', 'mahmood']\n",
        "a, b, c = fruits\n",
        "print(fruits)\n",
        "print(a, b, c)\n",
        "print(a)\n",
        "print(b)\n",
        "print(c)"
      ],
      "metadata": {
        "colab": {
          "base_uri": "https://localhost:8080/"
        },
        "id": "pS5yL6hUBVRA",
        "outputId": "a1757832-52c9-41c8-dede-ef9611511e9c"
      },
      "execution_count": null,
      "outputs": [
        {
          "output_type": "stream",
          "name": "stdout",
          "text": [
            "['fadil', 'mohammed', 'mahmood']\n",
            "fadil mohammed mahmood\n",
            "fadil\n",
            "mohammed\n",
            "mahmood\n"
          ]
        }
      ]
    },
    {
      "cell_type": "code",
      "source": [
        "x = 'ahmed'\n",
        "y = 'fadil'\n",
        "z = 'ali'\n",
        "print(x, y, z)\n",
        "print(x + y + z)"
      ],
      "metadata": {
        "colab": {
          "base_uri": "https://localhost:8080/"
        },
        "id": "HWvHR5sfA0jL",
        "outputId": "354bd617-5bfc-4535-8427-f1e9a7a62c00"
      },
      "execution_count": null,
      "outputs": [
        {
          "output_type": "stream",
          "name": "stdout",
          "text": [
            "ahmed fadil ali\n",
            "ahmedfadilali\n"
          ]
        }
      ]
    },
    {
      "cell_type": "code",
      "source": [
        "h = 27\n",
        "k = 'ahmed'\n",
        "print(h, k)"
      ],
      "metadata": {
        "colab": {
          "base_uri": "https://localhost:8080/"
        },
        "id": "ISALGn_BA0wV",
        "outputId": "12ae5aa1-69d4-422c-f898-934456c50ae4"
      },
      "execution_count": null,
      "outputs": [
        {
          "output_type": "stream",
          "name": "stdout",
          "text": [
            "27 ahmed\n"
          ]
        }
      ]
    },
    {
      "cell_type": "code",
      "source": [
        "# i = 33\n",
        "def fun():\n",
        "  # global i\n",
        "  i = 27\n",
        "  print('this number is', i)\n",
        "\n",
        "fun()\n",
        "\n",
        "print(f'and now the number is {i:.5f}')"
      ],
      "metadata": {
        "colab": {
          "base_uri": "https://localhost:8080/"
        },
        "id": "knQDnNetCl0J",
        "outputId": "249d8624-8cc9-48cb-b18b-c9fa7868c626"
      },
      "execution_count": null,
      "outputs": [
        {
          "output_type": "stream",
          "name": "stdout",
          "text": [
            "this number is 27\n",
            "and now the number is 27.00000\n"
          ]
        }
      ]
    },
    {
      "cell_type": "code",
      "source": [
        "# i = 33\n",
        "def fun():\n",
        "  # global i\n",
        "  i = 27\n",
        "  print('this number is', i)\n",
        "\n",
        "fun()\n",
        "\n",
        "print(f'and now the number is {i:.5f}')"
      ],
      "metadata": {
        "colab": {
          "base_uri": "https://localhost:8080/"
        },
        "id": "JBF3T0fxCl4O",
        "outputId": "0cfa937c-8608-4767-8b3b-ae983a9fbf98"
      },
      "execution_count": null,
      "outputs": [
        {
          "output_type": "stream",
          "name": "stdout",
          "text": [
            "this number is 27\n",
            "and now the number is 27.00000\n"
          ]
        }
      ]
    },
    {
      "cell_type": "code",
      "source": [],
      "metadata": {
        "id": "pE_hXm5_CmIF"
      },
      "execution_count": null,
      "outputs": []
    },
    {
      "cell_type": "code",
      "source": [
        "def fun():\n",
        "  print('welcome to gfg')\n",
        "fun()"
      ],
      "metadata": {
        "colab": {
          "base_uri": "https://localhost:8080/"
        },
        "id": "nx-leZgDfCUh",
        "outputId": "f681a119-8249-4a98-be13-3be4f662fc6a"
      },
      "execution_count": null,
      "outputs": [
        {
          "output_type": "stream",
          "name": "stdout",
          "text": [
            "welcome to gfg\n"
          ]
        }
      ]
    },
    {
      "cell_type": "code",
      "source": [
        "def add(num1: int, num2: int):\n",
        "    \"\"\"add two numbers\"\"\"\n",
        "    num3 = num1 + num2\n",
        "\n",
        "    return num3\n",
        "\n",
        "num1, num2 = 5, 15\n",
        "ans = add(num1, num2)\n",
        "print(f'num1 is {num1} and num2 is {num2}, and addition of them is {ans}.')"
      ],
      "metadata": {
        "colab": {
          "base_uri": "https://localhost:8080/"
        },
        "id": "bxS-29Y6fBqb",
        "outputId": "4d182d60-a0a6-46da-9f31-1f0655ef2f32"
      },
      "execution_count": null,
      "outputs": [
        {
          "output_type": "stream",
          "name": "stdout",
          "text": [
            "num1 is 5 and num2 is 15, and addition of them is 20.\n"
          ]
        }
      ]
    },
    {
      "cell_type": "code",
      "source": [
        "if (width == 0 and height == 0 and\n",
        "    color == 'red' and emphasis == 'strong' or\n",
        "    highlight > 100):\n",
        "  raise VlaueError('sorry, you lose')"
      ],
      "metadata": {
        "id": "c-e244wsfBhn"
      },
      "execution_count": null,
      "outputs": []
    },
    {
      "cell_type": "code",
      "source": [
        "s = fun(a, b, c\n",
        "        d, e, f)\n",
        "\n",
        "z = fun(a, b, c, \\\n",
        "        d, e, f)"
      ],
      "metadata": {
        "id": "X9k_mzkgfBYi"
      },
      "execution_count": null,
      "outputs": []
    },
    {
      "cell_type": "code",
      "source": [
        "import os\n",
        "import pandas\n",
        "import matplotlib"
      ],
      "metadata": {
        "id": "kMJBKnd_fBMp"
      },
      "execution_count": null,
      "outputs": []
    },
    {
      "cell_type": "code",
      "source": [
        "# Наболевшие вопросы\n",
        "\n",
        "bagdad(mm[l, s(dd{or})])\n",
        "if x == 4, z; mn:"
      ],
      "metadata": {
        "id": "AQC8oG7ifA5x"
      },
      "execution_count": null,
      "outputs": []
    },
    {
      "cell_type": "code",
      "source": [
        "\"\"\"i = i + 1\n",
        "submitted += 1\n",
        "x = x*x + 1\n",
        "ss x*x + x*x\n",
        "mm = (m+n) * (u-d)\n",
        "\n",
        "\"\"\"\n",
        "\n",
        "\"\"\" jaalfj ajflalfj ajfajflalfjadkl \"\"\""
      ],
      "metadata": {
        "id": "TDZQMP2elBxh"
      },
      "execution_count": null,
      "outputs": []
    },
    {
      "cell_type": "code",
      "source": [
        "class_ = 9\n",
        "print(class_)"
      ],
      "metadata": {
        "colab": {
          "base_uri": "https://localhost:8080/"
        },
        "id": "d8WdCy741BJe",
        "outputId": "0ae615e9-6405-4749-b244-d44423b18fac"
      },
      "execution_count": null,
      "outputs": [
        {
          "output_type": "stream",
          "name": "stdout",
          "text": [
            "9\n"
          ]
        }
      ]
    },
    {
      "cell_type": "code",
      "source": [
        "def com(s=22, z=33):\n",
        "  return d(i=s, n=z)"
      ],
      "metadata": {
        "id": "k0MgY1ADq0ws"
      },
      "execution_count": null,
      "outputs": []
    },
    {
      "cell_type": "code",
      "source": [
        "if red == 'sandy':\n",
        "  do_good_sany()\n",
        "  do1()\n",
        "  do2()\n",
        "  do3()"
      ],
      "metadata": {
        "id": "4Ldou0zYra4S"
      },
      "execution_count": null,
      "outputs": []
    },
    {
      "cell_type": "code",
      "source": [
        "x = 8\n",
        "counter = 0"
      ],
      "metadata": {
        "id": "YV-Cnglx9jVy"
      },
      "execution_count": null,
      "outputs": []
    },
    {
      "cell_type": "code",
      "source": [
        "print(divmod(9, 2))"
      ],
      "metadata": {
        "colab": {
          "base_uri": "https://localhost:8080/"
        },
        "id": "Slf7fXbwHXCa",
        "outputId": "df12d297-4bff-4524-9d26-34fd17872c62"
      },
      "execution_count": null,
      "outputs": [
        {
          "output_type": "stream",
          "name": "stdout",
          "text": [
            "(4, 1)\n"
          ]
        }
      ]
    },
    {
      "cell_type": "code",
      "source": [
        "print(divmod(9, 3))\n",
        "print(('\\n8.2, 99 ==>'), divmod(8.2, 99))"
      ],
      "metadata": {
        "colab": {
          "base_uri": "https://localhost:8080/"
        },
        "id": "uaIk3ZUb6849",
        "outputId": "b6f7967f-5316-45cf-9a10-e5e4b8ecf340"
      },
      "execution_count": null,
      "outputs": [
        {
          "output_type": "stream",
          "name": "stdout",
          "text": [
            "(0, 0)\n",
            "\n",
            "8.2, 99 ==> (0.0, 8.2)\n"
          ]
        }
      ]
    },
    {
      "cell_type": "code",
      "source": [
        "def fun():\n",
        "  print('this is a functhon')\n",
        "\n",
        "fun()"
      ],
      "metadata": {
        "colab": {
          "base_uri": "https://localhost:8080/"
        },
        "id": "rZos5ILjllfW",
        "outputId": "df5ef907-970d-41ec-a0b4-56a99ea3faac"
      },
      "execution_count": null,
      "outputs": [
        {
          "output_type": "stream",
          "name": "stdout",
          "text": [
            "this is a functhon\n"
          ]
        }
      ]
    },
    {
      "cell_type": "code",
      "source": [
        "def fun(a, b, c):\n",
        "  return a+b+c\n",
        "\n",
        "fun(1, 2, 3)"
      ],
      "metadata": {
        "colab": {
          "base_uri": "https://localhost:8080/"
        },
        "id": "jJjvJTYKl3cV",
        "outputId": "17c9ed56-9932-459c-d92c-91a171998bb7"
      },
      "execution_count": null,
      "outputs": [
        {
          "output_type": "execute_result",
          "data": {
            "text/plain": [
              "6"
            ]
          },
          "metadata": {},
          "execution_count": 4
        }
      ]
    },
    {
      "cell_type": "code",
      "source": [
        "def fun(num1: float, num2: float) -> int:\n",
        "  total = num1 + num2\n",
        "  return total\n",
        "\n",
        "fun(2, 3.99)"
      ],
      "metadata": {
        "colab": {
          "base_uri": "https://localhost:8080/"
        },
        "id": "MpQr6f_soMN8",
        "outputId": "c8019b0b-3d1b-479e-a10d-dfc87752715b"
      },
      "execution_count": null,
      "outputs": [
        {
          "output_type": "execute_result",
          "data": {
            "text/plain": [
              "5.99"
            ]
          },
          "metadata": {},
          "execution_count": 10
        }
      ]
    },
    {
      "cell_type": "code",
      "source": [
        "nums = [1, 2, 3, 4, 5, 6, 7]\n",
        "k = sorted()"
      ],
      "metadata": {
        "id": "YP7Cz86cnBvY"
      },
      "execution_count": null,
      "outputs": []
    },
    {
      "cell_type": "code",
      "source": [
        "# Пример значений переменных\n",
        "cyviner = 5  # Количество \"cyviner\"\n",
        "bezdelyshka = 3  # Количество \"bezdelyshka\"\n",
        "\n",
        "# Формула для расчёта\n",
        "total = (cyviner * 75) + (bezdelyshka * 112)  # Сумма в граммах\n",
        "\n",
        "# Если нужно добавить единицы измерения\n",
        "result = f\"{total} гр\"\n",
        "\n",
        "print(result)\n"
      ],
      "metadata": {
        "id": "Wj4ER46vndkS",
        "outputId": "0f945f97-9823-408c-c7e4-aff9b97ce326",
        "colab": {
          "base_uri": "https://localhost:8080/"
        }
      },
      "execution_count": null,
      "outputs": [
        {
          "output_type": "stream",
          "name": "stdout",
          "text": [
            "711 гр\n"
          ]
        }
      ]
    },
    {
      "cell_type": "code",
      "source": [
        "nums = [1, 2, 3, 4, 5, 6, 7]\n",
        "llamb = map(lambda x: x+2, nums)\n",
        "print(list(llamb))"
      ],
      "metadata": {
        "colab": {
          "base_uri": "https://localhost:8080/"
        },
        "id": "KhmQrs4yiqfr",
        "outputId": "92a3f83d-9cfd-4651-c3bb-1ddfba8212e7"
      },
      "execution_count": null,
      "outputs": [
        {
          "output_type": "stream",
          "name": "stdout",
          "text": [
            "[3, 4, 5, 6, 7, 8, 9]\n"
          ]
        }
      ]
    },
    {
      "cell_type": "code",
      "source": [
        "letters = ['s', 'b', 'd', 'm', 'g']\n",
        "# for let in len(letters):\n",
        "#   print(let)\n",
        "print(len(letters))"
      ],
      "metadata": {
        "colab": {
          "base_uri": "https://localhost:8080/"
        },
        "id": "WNG1G3sy_Zpa",
        "outputId": "fc3f94af-4922-4eb6-f691-9558d0dc21c8"
      },
      "execution_count": null,
      "outputs": [
        {
          "output_type": "stream",
          "name": "stdout",
          "text": [
            "5\n"
          ]
        }
      ]
    },
    {
      "cell_type": "code",
      "source": [
        "lets = ['f', 'g', 'a']\n",
        "all = map(lambda j: j + 'u', lets)\n",
        "print(list(all))"
      ],
      "metadata": {
        "colab": {
          "base_uri": "https://localhost:8080/"
        },
        "id": "sosMIhaGjnwp",
        "outputId": "1bccb54f-5668-49e3-ee8d-3d2038b0f33b"
      },
      "execution_count": null,
      "outputs": [
        {
          "output_type": "stream",
          "name": "stdout",
          "text": [
            "['fu', 'gu', 'au']\n"
          ]
        }
      ]
    },
    {
      "cell_type": "code",
      "source": [
        "nums = [1, 2, 3, 4, 5, 6, 7]\n",
        "filt = filter(lambda s: s==3, nums)\n",
        "print(list(filt))"
      ],
      "metadata": {
        "colab": {
          "base_uri": "https://localhost:8080/"
        },
        "id": "a-MwJ_fIkvye",
        "outputId": "d0e81933-ea6d-4dca-ebac-0379f4184a05"
      },
      "execution_count": null,
      "outputs": [
        {
          "output_type": "stream",
          "name": "stdout",
          "text": [
            "[3]\n"
          ]
        }
      ]
    },
    {
      "cell_type": "code",
      "source": [
        "x = [1, 2, 3, 4, 5]\n",
        "\n",
        "d = map(float, x)\n",
        "print(list(d))"
      ],
      "metadata": {
        "colab": {
          "base_uri": "https://localhost:8080/"
        },
        "id": "5NVrOQPcd2Vv",
        "outputId": "139a2ee5-f4d9-4c10-ff8c-79dd7466faa1"
      },
      "execution_count": null,
      "outputs": [
        {
          "output_type": "stream",
          "name": "stdout",
          "text": [
            "[1.0, 2.0, 3.0, 4.0, 5.0]\n"
          ]
        }
      ]
    },
    {
      "cell_type": "code",
      "source": [
        "II = int(input('The nums that u should be at the last month: '))\n",
        "III = float(input('The nums that they are  should make  here'))\n",
        "IIII  int(input(''))"
      ],
      "metadata": {
        "id": "MU6JoinFtDEB"
      },
      "execution_count": null,
      "outputs": []
    },
    {
      "cell_type": "code",
      "source": [
        "# ss = lambda x, y: x * y\n",
        "# print(ss(2, 3))\n",
        "\n",
        "def rr(m, n):\n",
        "    return m + n\n",
        "print(rr(5, 5))"
      ],
      "metadata": {
        "colab": {
          "base_uri": "https://localhost:8080/"
        },
        "id": "Bvk3-gRkgtOo",
        "outputId": "bfb9cd25-9dba-4556-d3c4-1e7a52b7443a"
      },
      "execution_count": null,
      "outputs": [
        {
          "output_type": "stream",
          "name": "stdout",
          "text": [
            "10\n"
          ]
        }
      ]
    },
    {
      "cell_type": "code",
      "source": [
        "w = 'hi, yooo track your progress'\n",
        "print(len(w))"
      ],
      "metadata": {
        "colab": {
          "base_uri": "https://localhost:8080/"
        },
        "id": "KmeEEFlDOA_R",
        "outputId": "a056e5cb-c3ec-4c2b-b58c-2fe173771a5d"
      },
      "execution_count": null,
      "outputs": [
        {
          "output_type": "stream",
          "name": "stdout",
          "text": [
            "28\n"
          ]
        }
      ]
    },
    {
      "cell_type": "code",
      "source": [
        "n = 3\n",
        "for f in range(n):\n",
        "  print(f)"
      ],
      "metadata": {
        "colab": {
          "base_uri": "https://localhost:8080/"
        },
        "id": "y0JQfAs4_ts3",
        "outputId": "81960cd6-7756-482e-a6f9-73ed6b629e8b"
      },
      "execution_count": null,
      "outputs": [
        {
          "output_type": "stream",
          "name": "stdout",
          "text": [
            "0\n",
            "1\n",
            "2\n"
          ]
        }
      ]
    },
    {
      "cell_type": "code",
      "source": [
        "nums = [1, 2, 3, 4, 5]\n",
        "for i, num in enumerate(nums):\n",
        "  print(i,\"--->\", num)"
      ],
      "metadata": {
        "colab": {
          "base_uri": "https://localhost:8080/"
        },
        "id": "dOPMIBYgz6vl",
        "outputId": "001c3400-d2cd-4606-a298-b6de4c6c3bae"
      },
      "execution_count": null,
      "outputs": [
        {
          "output_type": "stream",
          "name": "stdout",
          "text": [
            "0 ---> 1\n",
            "1 ---> 2\n",
            "2 ---> 3\n",
            "3 ---> 4\n",
            "4 ---> 5\n"
          ]
        }
      ]
    },
    {
      "cell_type": "code",
      "source": [
        "nums = [1, 2, 3, 4, 5]\n",
        "for i in range(len(nums)):\n",
        "  print(i, nums[i])"
      ],
      "metadata": {
        "colab": {
          "base_uri": "https://localhost:8080/"
        },
        "id": "Zr55_zX40qr0",
        "outputId": "1c5162d0-a2ee-4df8-d879-292eb240d1d6"
      },
      "execution_count": null,
      "outputs": [
        {
          "output_type": "stream",
          "name": "stdout",
          "text": [
            "0 1\n",
            "1 2\n",
            "2 3\n",
            "3 4\n",
            "4 5\n"
          ]
        }
      ]
    },
    {
      "cell_type": "code",
      "source": [
        "x = range(8)\n",
        "for i in x:\n",
        "  print('sequence of numbers:', i)"
      ],
      "metadata": {
        "colab": {
          "base_uri": "https://localhost:8080/"
        },
        "id": "wyyzrT3x-9kv",
        "outputId": "7854a9ac-b450-40c7-e2fc-337d4f60a3f0"
      },
      "execution_count": null,
      "outputs": [
        {
          "output_type": "stream",
          "name": "stdout",
          "text": [
            "sequence of numbers: 0\n",
            "sequence of numbers: 1\n",
            "sequence of numbers: 2\n",
            "sequence of numbers: 3\n",
            "sequence of numbers: 4\n",
            "sequence of numbers: 5\n",
            "sequence of numbers: 6\n",
            "sequence of numbers: 7\n"
          ]
        }
      ]
    },
    {
      "cell_type": "code",
      "source": [
        "for i in range(6):\n",
        "  print(i**2)"
      ],
      "metadata": {
        "colab": {
          "base_uri": "https://localhost:8080/"
        },
        "id": "-UfZMzH2l79n",
        "outputId": "7b018a9c-778f-406d-cba0-f0dc65001ebe"
      },
      "execution_count": null,
      "outputs": [
        {
          "output_type": "stream",
          "name": "stdout",
          "text": [
            "0\n",
            "1\n",
            "2\n",
            "3\n",
            "4\n",
            "5\n"
          ]
        }
      ]
    },
    {
      "cell_type": "code",
      "source": [
        "for i in [0, 1, 2, 3, 4, 5]:\n",
        "  print(i)"
      ],
      "metadata": {
        "id": "PMlnQApymEQa",
        "colab": {
          "base_uri": "https://localhost:8080/"
        },
        "outputId": "4699b8e7-152d-42ae-dc4d-85dc70ad9203"
      },
      "execution_count": null,
      "outputs": [
        {
          "output_type": "stream",
          "name": "stdout",
          "text": [
            "0\n",
            "1\n",
            "2\n",
            "3\n",
            "4\n",
            "5\n"
          ]
        }
      ]
    },
    {
      "cell_type": "code",
      "source": [
        "colors = ['red', 'green', 'blue', 'yellow']\n",
        "for i, color in enumerate(colors):\n",
        "    print(i, '-->', color)"
      ],
      "metadata": {
        "id": "NaNSkVROmETp",
        "colab": {
          "base_uri": "https://localhost:8080/"
        },
        "outputId": "cb9831ce-5ad7-4711-ce07-0510fa3c16d8"
      },
      "execution_count": null,
      "outputs": [
        {
          "output_type": "stream",
          "name": "stdout",
          "text": [
            "0 --> red\n",
            "1 --> green\n",
            "2 --> blue\n",
            "3 --> yellow\n"
          ]
        }
      ]
    },
    {
      "cell_type": "code",
      "source": [],
      "metadata": {
        "id": "-lxy0VKxqIiI"
      },
      "execution_count": null,
      "outputs": []
    },
    {
      "cell_type": "code",
      "source": [
        "x = 8"
      ],
      "metadata": {
        "id": "n_W3GtOjX_sx"
      },
      "execution_count": null,
      "outputs": []
    },
    {
      "cell_type": "code",
      "source": [
        "y = 2"
      ],
      "metadata": {
        "id": "jEd5Bb0DYAnf"
      },
      "execution_count": null,
      "outputs": []
    },
    {
      "cell_type": "code",
      "execution_count": null,
      "metadata": {
        "colab": {
          "base_uri": "https://localhost:8080/"
        },
        "id": "FfJaimDuXscG",
        "outputId": "e6a4e68e-ada0-4824-8638-9f7a6916dbca"
      },
      "outputs": [
        {
          "output_type": "stream",
          "name": "stdout",
          "text": [
            "x = 8 ymnogaem na y = 2 i palyhaem  16\n"
          ]
        }
      ],
      "source": [
        "print('x =', x, 'ymnogaem na y =', y, 'i palyhaem ', x * y)"
      ]
    },
    {
      "cell_type": "code",
      "source": [
        "print(1, 2, 3, 4, 5, sep = ' | ')"
      ],
      "metadata": {
        "colab": {
          "base_uri": "https://localhost:8080/"
        },
        "id": "NqYndbMHYxb4",
        "outputId": "b25a14e8-87b4-471a-e734-c5f01c6427c6"
      },
      "execution_count": null,
      "outputs": [
        {
          "output_type": "stream",
          "name": "stdout",
          "text": [
            "1 | 2 | 3 | 4 | 5\n"
          ]
        }
      ]
    },
    {
      "cell_type": "code",
      "source": [
        "print(1, 2, 3, 4, 5, sep = ' | \\n')"
      ],
      "metadata": {
        "colab": {
          "base_uri": "https://localhost:8080/"
        },
        "id": "czEW70S7Z7Zo",
        "outputId": "c678dafa-5ecc-48c9-84c1-8a9ef0cb6fe4"
      },
      "execution_count": null,
      "outputs": [
        {
          "output_type": "stream",
          "name": "stdout",
          "text": [
            "1 | \n",
            "2 | \n",
            "3 | \n",
            "4 | \n",
            "5\n"
          ]
        }
      ]
    },
    {
      "cell_type": "code",
      "source": [
        "print(1, 2, 3, 4, 5, end = ' | ')\n"
      ],
      "metadata": {
        "colab": {
          "base_uri": "https://localhost:8080/"
        },
        "id": "5ci5jAVkaPUH",
        "outputId": "95e219e5-80d2-4dcc-be10-0a513f58ffd6"
      },
      "execution_count": null,
      "outputs": [
        {
          "output_type": "stream",
          "name": "stdout",
          "text": [
            "1 2 3 4 5 | "
          ]
        }
      ]
    },
    {
      "cell_type": "code",
      "source": [
        "print(22, end = ' | ')"
      ],
      "metadata": {
        "colab": {
          "base_uri": "https://localhost:8080/"
        },
        "id": "6lrNObXSacNC",
        "outputId": "820867e9-cd7e-471a-93eb-0b3266cff533"
      },
      "execution_count": null,
      "outputs": [
        {
          "output_type": "stream",
          "name": "stdout",
          "text": [
            "22 | "
          ]
        }
      ]
    },
    {
      "cell_type": "code",
      "source": [
        "print(33, end = ' () () ')"
      ],
      "metadata": {
        "colab": {
          "base_uri": "https://localhost:8080/"
        },
        "id": "jEwzgUUkamso",
        "outputId": "7fca6f60-888f-4751-895c-94d7f76c2224"
      },
      "execution_count": null,
      "outputs": [
        {
          "output_type": "stream",
          "name": "stdout",
          "text": [
            "33 () () "
          ]
        }
      ]
    },
    {
      "cell_type": "code",
      "source": [
        "z = input()\n",
        "print('you entered:', z)"
      ],
      "metadata": {
        "colab": {
          "base_uri": "https://localhost:8080/"
        },
        "id": "0r3WF1Ebuakf",
        "outputId": "11ec3676-9123-4a98-aae7-795d27135ac0"
      },
      "execution_count": null,
      "outputs": [
        {
          "output_type": "stream",
          "name": "stdout",
          "text": [
            "8\n",
            "you entered: 8\n"
          ]
        }
      ]
    },
    {
      "cell_type": "code",
      "source": [
        "i = input('how are u?')\n",
        "ii = int(input('how old are u?'))\n",
        "iii = float(input('how much your salary?'))"
      ],
      "metadata": {
        "colab": {
          "base_uri": "https://localhost:8080/"
        },
        "id": "Cvm4NoLr1ILm",
        "outputId": "6b9f1cd0-ccd6-4dc2-9e05-e6b6ada17269"
      },
      "execution_count": null,
      "outputs": [
        {
          "name": "stdout",
          "output_type": "stream",
          "text": [
            "how are u?fine\n",
            "how old are u?88\n",
            "how much your salary?8\n"
          ]
        }
      ]
    },
    {
      "cell_type": "code",
      "source": [
        "name = input('Наименование товара: ')\n",
        "quantity = int(input('Сколько единец товара вы желаете приобрести? '))\n",
        "price = float(input('Какова цена за единицу? '))"
      ],
      "metadata": {
        "colab": {
          "base_uri": "https://localhost:8080/"
        },
        "id": "-Wa1asMO23Io",
        "outputId": "6ea5eb33-5ffe-43c6-b6ce-1ab69e32f3dd"
      },
      "execution_count": null,
      "outputs": [
        {
          "name": "stdout",
          "output_type": "stream",
          "text": [
            "Наименование товара: ss\n",
            "Сколько единец товара вы желаете приобрести? 9\n",
            "Какова цена за единицу? 98\n"
          ]
        }
      ]
    },
    {
      "cell_type": "code",
      "source": [
        "total = quantity * price\n",
        "print('Общая стоимость покупки составила:', total)"
      ],
      "metadata": {
        "colab": {
          "base_uri": "https://localhost:8080/"
        },
        "id": "ZVDVoIbf3o-P",
        "outputId": "a13756b3-a734-41e6-cc45-63be393e0a04"
      },
      "execution_count": null,
      "outputs": [
        {
          "output_type": "stream",
          "name": "stdout",
          "text": [
            "Общая стоимость покупки составила: 882.0\n"
          ]
        }
      ]
    },
    {
      "cell_type": "code",
      "source": [
        "a = 78.99\n",
        "b = -34.27\n",
        "c = 'БургерКинг'\n",
        "\n",
        "print(\"1 целое число: %d\" % a)\n",
        "print('2 чисор с плавающей точкой: %f' % b)\n",
        "print('3 несколько форматов в одной строке: %d and %.9f' % (a, b))\n",
        "print(\"4 целые числа с 8-ю знакоместами: %12i      and %12i\" % (a, b))\n",
        "print('5 %i %i' % (a, b))\n",
        "print('6 %i %10i' % (a, b))\n",
        "print(\"7 it's a big number: %.33f\" % a)\n",
        "print('8 sssssss %.22d' % a)\n",
        "print('9 формат строки с 10-ю знакоместями: %44s' % c)\n",
        "print('10 этот человек который его зовут %s сидел в %d бургеркингов' % ('Ahmed', 9))"
      ],
      "metadata": {
        "colab": {
          "base_uri": "https://localhost:8080/"
        },
        "id": "8epbqrMoaJcY",
        "outputId": "3b9bc567-f42f-4a6e-d560-bac42c8a18fc"
      },
      "execution_count": null,
      "outputs": [
        {
          "output_type": "stream",
          "name": "stdout",
          "text": [
            "1 целое число: 78\n",
            "2 чисор с плавающей точкой: -34.270000\n",
            "3 несколько форматов в одной строке: 78 and -34.270000000\n",
            "4 целые числа с 8-ю знакоместами:           78      and          -34\n",
            "5 78 -34\n",
            "6 78        -34\n",
            "7 it's a big number: 78.989999999999994884092302527278662\n",
            "8 sssssss 0000000000000000000078\n",
            "9 формат строки с 10-ю знакоместями:                                   БургерКинг\n",
            "10 этот человек который его зовут Ahmed сидел в 9 бургеркингов\n"
          ]
        }
      ]
    },
    {
      "cell_type": "code",
      "source": [
        "firstName = input('Введите имя: ')\n",
        "lastName = input('Введите фамилию: ')\n",
        "\n",
        "fullName = firstName + ' ' + lastName\n",
        "\n",
        "print(fullName)"
      ],
      "metadata": {
        "colab": {
          "base_uri": "https://localhost:8080/"
        },
        "id": "VI-MUnL-am8P",
        "outputId": "ba79f2f5-358e-4b1a-cbe1-87d42a6c3895"
      },
      "execution_count": null,
      "outputs": [
        {
          "output_type": "stream",
          "name": "stdout",
          "text": [
            "Введите имя: Ahmed\n",
            "Введите фамилию: Fadilsa\n",
            "Ahmed Fadilsa\n"
          ]
        }
      ]
    },
    {
      "cell_type": "code",
      "source": [
        "q1 = input('How are the work? ')\n",
        "q2 = input('Where are u now? ')\n",
        "q3 = input('How much u need? ')\n",
        "\n",
        "# print(q1 + '\\n' + q2 + '\\n' + q3)\n",
        "\n",
        "all_answers = q1 + ' ' + q2 + ' ' + q3"
      ],
      "metadata": {
        "colab": {
          "base_uri": "https://localhost:8080/"
        },
        "id": "vVGGh8Fby8_T",
        "outputId": "00d6dece-3baa-4f9c-df42-70a55b6ceca2"
      },
      "execution_count": null,
      "outputs": [
        {
          "name": "stdout",
          "output_type": "stream",
          "text": [
            "How are the work? I'm fine\n",
            "Where are u now? At work\n",
            "How much u need? Two thousnd\n"
          ]
        }
      ]
    },
    {
      "cell_type": "code",
      "source": [
        "print(len(all_answers))"
      ],
      "metadata": {
        "colab": {
          "base_uri": "https://localhost:8080/"
        },
        "id": "9ndIOwkC1AMc",
        "outputId": "62297813-daea-4857-88b9-57285a366f38"
      },
      "execution_count": null,
      "outputs": [
        {
          "output_type": "stream",
          "name": "stdout",
          "text": [
            "28\n"
          ]
        }
      ]
    },
    {
      "cell_type": "code",
      "source": [
        "# theNumOfAllChars = len(all_answers)\n",
        "# print('all charecters of %s , %s and %d are ' % len(all_answers))"
      ],
      "metadata": {
        "id": "owUK3TK_3JUQ"
      },
      "execution_count": null,
      "outputs": []
    },
    {
      "cell_type": "code",
      "source": [
        "firstName = input('type your first name: ')\n",
        "middleName = input('type your middle name: ')\n",
        "lastName = input('type your last name: ')\n",
        "\n",
        "print('your information to instegration: %s %s. %s.' % (lastName, firstName[0], middleName[0]))"
      ],
      "metadata": {
        "colab": {
          "base_uri": "https://localhost:8080/"
        },
        "id": "xKvtEPUilHJ5",
        "outputId": "e15f154a-9d9e-44f0-e021-9464f9edb2c3"
      },
      "execution_count": null,
      "outputs": [
        {
          "output_type": "stream",
          "name": "stdout",
          "text": [
            "type your first name: Ahmed\n",
            "type your middle name: Fadil\n",
            "type your last name: Mahmood\n",
            "your information to instegration: Mahmood A. F.\n"
          ]
        }
      ]
    },
    {
      "cell_type": "code",
      "source": [
        "line = \"hi, i'm your assistant\"\n",
        "\n",
        "print(line[0:2])\n",
        "print(line[:])\n",
        "print(line[:-1])"
      ],
      "metadata": {
        "colab": {
          "base_uri": "https://localhost:8080/"
        },
        "id": "IQO-KynSopRa",
        "outputId": "f9a5fbd3-9900-4816-9368-c645d6613f7e"
      },
      "execution_count": null,
      "outputs": [
        {
          "output_type": "stream",
          "name": "stdout",
          "text": [
            "hi\n",
            "hi, i'm your assistant\n",
            "hi, i'm your assistan\n"
          ]
        }
      ]
    },
    {
      "cell_type": "code",
      "source": [
        "text = 'HelloWorld  '\n",
        "print(text * 3)"
      ],
      "metadata": {
        "colab": {
          "base_uri": "https://localhost:8080/"
        },
        "id": "dioglnqcpnte",
        "outputId": "dd51a003-7cf1-40ab-dd4b-4d7461e1b2ce"
      },
      "execution_count": null,
      "outputs": [
        {
          "output_type": "stream",
          "name": "stdout",
          "text": [
            "HelloWorld  HelloWorld  HelloWorld  \n"
          ]
        }
      ]
    },
    {
      "cell_type": "code",
      "source": [],
      "metadata": {
        "id": "gKH-g1VZsbM9"
      },
      "execution_count": null,
      "outputs": []
    },
    {
      "cell_type": "code",
      "source": [
        "'text {paceHolder}.format(value)'"
      ],
      "metadata": {
        "id": "og7DRlFDsbXr"
      },
      "execution_count": null,
      "outputs": []
    },
    {
      "cell_type": "code",
      "source": [
        "name = 'ahmed'\n",
        "age = 27\n",
        "salary = 80000\n",
        "\n",
        "info = 'my name is {} and my age is {} year'.format(name, age)\n",
        "print(info)"
      ],
      "metadata": {
        "colab": {
          "base_uri": "https://localhost:8080/"
        },
        "id": "aoS7xpsRrz6e",
        "outputId": "e5f1ebec-e0c1-4f36-e77f-9e81270df0d9"
      },
      "execution_count": null,
      "outputs": [
        {
          "output_type": "stream",
          "name": "stdout",
          "text": [
            "my name is ahmed and my age is 27 year\n"
          ]
        }
      ]
    },
    {
      "cell_type": "code",
      "source": [
        "fos = ('name is {}, the age is {} and the salary is {}. so hi with {}').format(name, age, salary, name)\n",
        "print(fos)"
      ],
      "metadata": {
        "colab": {
          "base_uri": "https://localhost:8080/"
        },
        "id": "x5ydNJ5ssk5p",
        "outputId": "1acc9a4a-0d2a-4788-fa36-acc218018fd0"
      },
      "execution_count": null,
      "outputs": [
        {
          "output_type": "stream",
          "name": "stdout",
          "text": [
            "name is ahmed, the age is 27 and the salary is 80000. so hi with ahmed\n"
          ]
        }
      ]
    },
    {
      "cell_type": "code",
      "source": [
        "print('name is {}, the age is {} and the salary is {}. so hi with {}'.format(name, age, salary, name))\n"
      ],
      "metadata": {
        "colab": {
          "base_uri": "https://localhost:8080/"
        },
        "id": "X9YW1kOyttxs",
        "outputId": "4c274d45-ed14-450c-c386-580c4cb680a4"
      },
      "execution_count": null,
      "outputs": [
        {
          "output_type": "stream",
          "name": "stdout",
          "text": [
            "name is ahmed, the age is 27 and the salary is 80000. so hi with ahmed\n"
          ]
        }
      ]
    },
    {
      "cell_type": "code",
      "source": [
        "num = 88789.99999\n",
        "print('can u give {:.2f} to them'.format(num))\n",
        "print('the whole num: ${} only for TSS and {comp}'.format(num, comp='UUU'))"
      ],
      "metadata": {
        "colab": {
          "base_uri": "https://localhost:8080/"
        },
        "id": "RrfxWC2LwSQm",
        "outputId": "b8ff7f54-393d-41d5-d4ce-2e46c7ac9706"
      },
      "execution_count": null,
      "outputs": [
        {
          "output_type": "stream",
          "name": "stdout",
          "text": [
            "can u give 88790.00 to them\n",
            "the whole num: $88789.99999 only for TSS and UUU\n"
          ]
        }
      ]
    }
  ]
}