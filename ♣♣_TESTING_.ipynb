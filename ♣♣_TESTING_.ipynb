{
  "nbformat": 4,
  "nbformat_minor": 0,
  "metadata": {
    "colab": {
      "provenance": [],
      "authorship_tag": "ABX9TyNFKyXRaavt4xXXGUg5H/CP",
      "include_colab_link": true
    },
    "kernelspec": {
      "name": "python3",
      "display_name": "Python 3"
    },
    "language_info": {
      "name": "python"
    }
  },
  "cells": [
    {
      "cell_type": "markdown",
      "metadata": {
        "id": "view-in-github",
        "colab_type": "text"
      },
      "source": [
        "<a href=\"https://colab.research.google.com/github/Fadilsa9/-TESTING-/blob/main/%E2%99%A3%E2%99%A3_TESTING_.ipynb\" target=\"_parent\"><img src=\"https://colab.research.google.com/assets/colab-badge.svg\" alt=\"Open In Colab\"/></a>"
      ]
    },
    {
      "cell_type": "code",
      "source": [
        "def fun():\n",
        "  print('welcome to gfg')\n",
        "fun()"
      ],
      "metadata": {
        "colab": {
          "base_uri": "https://localhost:8080/"
        },
        "id": "nx-leZgDfCUh",
        "outputId": "f681a119-8249-4a98-be13-3be4f662fc6a"
      },
      "execution_count": 14,
      "outputs": [
        {
          "output_type": "stream",
          "name": "stdout",
          "text": [
            "welcome to gfg\n"
          ]
        }
      ]
    },
    {
      "cell_type": "code",
      "source": [
        "def add(num1: int, num2: int):\n",
        "    \"\"\"add two numbers\"\"\"\n",
        "    num3 = num1 + num2\n",
        "\n",
        "    return num3\n",
        "\n",
        "num1, num2 = 5, 15\n",
        "ans = add(num1, num2)\n",
        "print(f'num1 is {num1} and num2 is {num2}, and addition of them is {ans}.')"
      ],
      "metadata": {
        "colab": {
          "base_uri": "https://localhost:8080/"
        },
        "id": "bxS-29Y6fBqb",
        "outputId": "4d182d60-a0a6-46da-9f31-1f0655ef2f32"
      },
      "execution_count": 13,
      "outputs": [
        {
          "output_type": "stream",
          "name": "stdout",
          "text": [
            "num1 is 5 and num2 is 15, and addition of them is 20.\n"
          ]
        }
      ]
    },
    {
      "cell_type": "code",
      "source": [
        "if (width == 0 and height == 0 and\n",
        "    color == 'red' and emphasis == 'strong' or\n",
        "    highlight > 100):\n",
        "  raise VlaueError('sorry, you lose')"
      ],
      "metadata": {
        "id": "c-e244wsfBhn"
      },
      "execution_count": null,
      "outputs": []
    },
    {
      "cell_type": "code",
      "source": [
        "s = fun(a, b, c\n",
        "        d, e, f)\n",
        "\n",
        "z = fun(a, b, c, \\\n",
        "        d, e, f)"
      ],
      "metadata": {
        "id": "X9k_mzkgfBYi"
      },
      "execution_count": null,
      "outputs": []
    },
    {
      "cell_type": "code",
      "source": [
        "import os\n",
        "import pandas\n",
        "import matplotlib"
      ],
      "metadata": {
        "id": "kMJBKnd_fBMp"
      },
      "execution_count": null,
      "outputs": []
    },
    {
      "cell_type": "code",
      "source": [
        "# Наболевшие вопросы\n",
        "\n",
        "bagdad(mm[l, s(dd{or})])\n",
        "if x == 4, z; mn:"
      ],
      "metadata": {
        "id": "AQC8oG7ifA5x"
      },
      "execution_count": null,
      "outputs": []
    },
    {
      "cell_type": "code",
      "source": [
        "\"\"\"i = i + 1\n",
        "submitted += 1\n",
        "x = x*x + 1\n",
        "ss x*x + x*x\n",
        "mm = (m+n) * (u-d)\n",
        "\n",
        "\"\"\"\n",
        "\n",
        "\"\"\" jaalfj ajflalfj ajfajflalfjadkl \"\"\""
      ],
      "metadata": {
        "id": "TDZQMP2elBxh"
      },
      "execution_count": null,
      "outputs": []
    },
    {
      "cell_type": "code",
      "source": [
        "def com(s=22, z=33):\n",
        "  return d(i=s, n=z)"
      ],
      "metadata": {
        "id": "k0MgY1ADq0ws"
      },
      "execution_count": 1,
      "outputs": []
    },
    {
      "cell_type": "code",
      "source": [
        "if red == 'sandy':\n",
        "  do_good_sany()\n",
        "  do1()\n",
        "  do2()\n",
        "  do3()"
      ],
      "metadata": {
        "id": "4Ldou0zYra4S"
      },
      "execution_count": null,
      "outputs": []
    },
    {
      "cell_type": "code",
      "source": [
        "x = 8\n",
        "counter = 0"
      ],
      "metadata": {
        "id": "YV-Cnglx9jVy"
      },
      "execution_count": null,
      "outputs": []
    },
    {
      "cell_type": "code",
      "source": [
        "print(divmod(9, 2))"
      ],
      "metadata": {
        "colab": {
          "base_uri": "https://localhost:8080/"
        },
        "id": "Slf7fXbwHXCa",
        "outputId": "df12d297-4bff-4524-9d26-34fd17872c62"
      },
      "execution_count": null,
      "outputs": [
        {
          "output_type": "stream",
          "name": "stdout",
          "text": [
            "(4, 1)\n"
          ]
        }
      ]
    },
    {
      "cell_type": "code",
      "source": [
        "print(divmod(9, 3))\n",
        "print(('\\n8.2, 99 ==>'), divmod(8.2, 99))"
      ],
      "metadata": {
        "colab": {
          "base_uri": "https://localhost:8080/"
        },
        "id": "uaIk3ZUb6849",
        "outputId": "b6f7967f-5316-45cf-9a10-e5e4b8ecf340"
      },
      "execution_count": null,
      "outputs": [
        {
          "output_type": "stream",
          "name": "stdout",
          "text": [
            "(0, 0)\n",
            "\n",
            "8.2, 99 ==> (0.0, 8.2)\n"
          ]
        }
      ]
    },
    {
      "cell_type": "code",
      "source": [
        "def fun():\n",
        "  print('this is a functhon')\n",
        "\n",
        "fun()"
      ],
      "metadata": {
        "colab": {
          "base_uri": "https://localhost:8080/"
        },
        "id": "rZos5ILjllfW",
        "outputId": "df5ef907-970d-41ec-a0b4-56a99ea3faac"
      },
      "execution_count": null,
      "outputs": [
        {
          "output_type": "stream",
          "name": "stdout",
          "text": [
            "this is a functhon\n"
          ]
        }
      ]
    },
    {
      "cell_type": "code",
      "source": [
        "def fun(a, b, c):\n",
        "  return a+b+c\n",
        "\n",
        "fun(1, 2, 3)"
      ],
      "metadata": {
        "colab": {
          "base_uri": "https://localhost:8080/"
        },
        "id": "jJjvJTYKl3cV",
        "outputId": "17c9ed56-9932-459c-d92c-91a171998bb7"
      },
      "execution_count": null,
      "outputs": [
        {
          "output_type": "execute_result",
          "data": {
            "text/plain": [
              "6"
            ]
          },
          "metadata": {},
          "execution_count": 4
        }
      ]
    },
    {
      "cell_type": "code",
      "source": [
        "def fun(num1: float, num2: float) -> int:\n",
        "  total = num1 + num2\n",
        "  return total\n",
        "\n",
        "fun(2, 3.99)"
      ],
      "metadata": {
        "colab": {
          "base_uri": "https://localhost:8080/"
        },
        "id": "MpQr6f_soMN8",
        "outputId": "c8019b0b-3d1b-479e-a10d-dfc87752715b"
      },
      "execution_count": null,
      "outputs": [
        {
          "output_type": "execute_result",
          "data": {
            "text/plain": [
              "5.99"
            ]
          },
          "metadata": {},
          "execution_count": 10
        }
      ]
    },
    {
      "cell_type": "code",
      "source": [
        "nums = [1, 2, 3, 4, 5, 6, 7]\n",
        "k = sorted()"
      ],
      "metadata": {
        "id": "YP7Cz86cnBvY"
      },
      "execution_count": null,
      "outputs": []
    },
    {
      "cell_type": "code",
      "source": [
        "# Пример значений переменных\n",
        "cyviner = 5  # Количество \"cyviner\"\n",
        "bezdelyshka = 3  # Количество \"bezdelyshka\"\n",
        "\n",
        "# Формула для расчёта\n",
        "total = (cyviner * 75) + (bezdelyshka * 112)  # Сумма в граммах\n",
        "\n",
        "# Если нужно добавить единицы измерения\n",
        "result = f\"{total} гр\"\n",
        "\n",
        "print(result)\n"
      ],
      "metadata": {
        "id": "Wj4ER46vndkS",
        "outputId": "0f945f97-9823-408c-c7e4-aff9b97ce326",
        "colab": {
          "base_uri": "https://localhost:8080/"
        }
      },
      "execution_count": null,
      "outputs": [
        {
          "output_type": "stream",
          "name": "stdout",
          "text": [
            "711 гр\n"
          ]
        }
      ]
    },
    {
      "cell_type": "code",
      "source": [
        "nums = [1, 2, 3, 4, 5, 6, 7]\n",
        "llamb = map(lambda x: x+2, nums)\n",
        "print(list(llamb))"
      ],
      "metadata": {
        "colab": {
          "base_uri": "https://localhost:8080/"
        },
        "id": "KhmQrs4yiqfr",
        "outputId": "92a3f83d-9cfd-4651-c3bb-1ddfba8212e7"
      },
      "execution_count": null,
      "outputs": [
        {
          "output_type": "stream",
          "name": "stdout",
          "text": [
            "[3, 4, 5, 6, 7, 8, 9]\n"
          ]
        }
      ]
    },
    {
      "cell_type": "code",
      "source": [
        "letters = ['s', 'b', 'd', 'm', 'g']\n",
        "# for let in len(letters):\n",
        "#   print(let)\n",
        "print(len(letters))"
      ],
      "metadata": {
        "colab": {
          "base_uri": "https://localhost:8080/"
        },
        "id": "WNG1G3sy_Zpa",
        "outputId": "fc3f94af-4922-4eb6-f691-9558d0dc21c8"
      },
      "execution_count": null,
      "outputs": [
        {
          "output_type": "stream",
          "name": "stdout",
          "text": [
            "5\n"
          ]
        }
      ]
    },
    {
      "cell_type": "code",
      "source": [
        "lets = ['f', 'g', 'a']\n",
        "all = map(lambda j: j + 'u', lets)\n",
        "print(list(all))"
      ],
      "metadata": {
        "colab": {
          "base_uri": "https://localhost:8080/"
        },
        "id": "sosMIhaGjnwp",
        "outputId": "1bccb54f-5668-49e3-ee8d-3d2038b0f33b"
      },
      "execution_count": null,
      "outputs": [
        {
          "output_type": "stream",
          "name": "stdout",
          "text": [
            "['fu', 'gu', 'au']\n"
          ]
        }
      ]
    },
    {
      "cell_type": "code",
      "source": [
        "nums = [1, 2, 3, 4, 5, 6, 7]\n",
        "filt = filter(lambda s: s==3, nums)\n",
        "print(list(filt))"
      ],
      "metadata": {
        "colab": {
          "base_uri": "https://localhost:8080/"
        },
        "id": "a-MwJ_fIkvye",
        "outputId": "d0e81933-ea6d-4dca-ebac-0379f4184a05"
      },
      "execution_count": null,
      "outputs": [
        {
          "output_type": "stream",
          "name": "stdout",
          "text": [
            "[3]\n"
          ]
        }
      ]
    },
    {
      "cell_type": "code",
      "source": [
        "x = [1, 2, 3, 4, 5]\n",
        "\n",
        "d = map(float, x)\n",
        "print(list(d))"
      ],
      "metadata": {
        "colab": {
          "base_uri": "https://localhost:8080/"
        },
        "id": "5NVrOQPcd2Vv",
        "outputId": "139a2ee5-f4d9-4c10-ff8c-79dd7466faa1"
      },
      "execution_count": null,
      "outputs": [
        {
          "output_type": "stream",
          "name": "stdout",
          "text": [
            "[1.0, 2.0, 3.0, 4.0, 5.0]\n"
          ]
        }
      ]
    },
    {
      "cell_type": "code",
      "source": [
        "II = int(input('The nums that u should be at the last month: '))\n",
        "III = float(input('The nums that they are  should make  here'))\n",
        "IIII  int(input(''))"
      ],
      "metadata": {
        "id": "MU6JoinFtDEB"
      },
      "execution_count": null,
      "outputs": []
    },
    {
      "cell_type": "code",
      "source": [
        "# ss = lambda x, y: x * y\n",
        "# print(ss(2, 3))\n",
        "\n",
        "def rr(m, n):\n",
        "    return m + n\n",
        "print(rr(5, 5))"
      ],
      "metadata": {
        "colab": {
          "base_uri": "https://localhost:8080/"
        },
        "id": "Bvk3-gRkgtOo",
        "outputId": "bfb9cd25-9dba-4556-d3c4-1e7a52b7443a"
      },
      "execution_count": null,
      "outputs": [
        {
          "output_type": "stream",
          "name": "stdout",
          "text": [
            "10\n"
          ]
        }
      ]
    },
    {
      "cell_type": "code",
      "source": [
        "w = 'hi, yooo track your progress'\n",
        "print(len(w))"
      ],
      "metadata": {
        "colab": {
          "base_uri": "https://localhost:8080/"
        },
        "id": "KmeEEFlDOA_R",
        "outputId": "a056e5cb-c3ec-4c2b-b58c-2fe173771a5d"
      },
      "execution_count": null,
      "outputs": [
        {
          "output_type": "stream",
          "name": "stdout",
          "text": [
            "28\n"
          ]
        }
      ]
    },
    {
      "cell_type": "code",
      "source": [
        "n = 3\n",
        "for f in range(n):\n",
        "  print(f)"
      ],
      "metadata": {
        "colab": {
          "base_uri": "https://localhost:8080/"
        },
        "id": "y0JQfAs4_ts3",
        "outputId": "81960cd6-7756-482e-a6f9-73ed6b629e8b"
      },
      "execution_count": null,
      "outputs": [
        {
          "output_type": "stream",
          "name": "stdout",
          "text": [
            "0\n",
            "1\n",
            "2\n"
          ]
        }
      ]
    },
    {
      "cell_type": "code",
      "source": [
        "nums = [1, 2, 3, 4, 5]\n",
        "for i, num in enumerate(nums):\n",
        "  print(i,\"--->\", num)"
      ],
      "metadata": {
        "colab": {
          "base_uri": "https://localhost:8080/"
        },
        "id": "dOPMIBYgz6vl",
        "outputId": "001c3400-d2cd-4606-a298-b6de4c6c3bae"
      },
      "execution_count": null,
      "outputs": [
        {
          "output_type": "stream",
          "name": "stdout",
          "text": [
            "0 ---> 1\n",
            "1 ---> 2\n",
            "2 ---> 3\n",
            "3 ---> 4\n",
            "4 ---> 5\n"
          ]
        }
      ]
    },
    {
      "cell_type": "code",
      "source": [
        "nums = [1, 2, 3, 4, 5]\n",
        "for i in range(len(nums)):\n",
        "  print(i, nums[i])"
      ],
      "metadata": {
        "colab": {
          "base_uri": "https://localhost:8080/"
        },
        "id": "Zr55_zX40qr0",
        "outputId": "1c5162d0-a2ee-4df8-d879-292eb240d1d6"
      },
      "execution_count": null,
      "outputs": [
        {
          "output_type": "stream",
          "name": "stdout",
          "text": [
            "0 1\n",
            "1 2\n",
            "2 3\n",
            "3 4\n",
            "4 5\n"
          ]
        }
      ]
    },
    {
      "cell_type": "code",
      "source": [
        "x = range(8)\n",
        "for i in x:\n",
        "  print('sequence of numbers:', i)"
      ],
      "metadata": {
        "colab": {
          "base_uri": "https://localhost:8080/"
        },
        "id": "wyyzrT3x-9kv",
        "outputId": "7854a9ac-b450-40c7-e2fc-337d4f60a3f0"
      },
      "execution_count": null,
      "outputs": [
        {
          "output_type": "stream",
          "name": "stdout",
          "text": [
            "sequence of numbers: 0\n",
            "sequence of numbers: 1\n",
            "sequence of numbers: 2\n",
            "sequence of numbers: 3\n",
            "sequence of numbers: 4\n",
            "sequence of numbers: 5\n",
            "sequence of numbers: 6\n",
            "sequence of numbers: 7\n"
          ]
        }
      ]
    },
    {
      "cell_type": "code",
      "source": [
        "for i in range(6):\n",
        "  print(i**2)"
      ],
      "metadata": {
        "colab": {
          "base_uri": "https://localhost:8080/"
        },
        "id": "-UfZMzH2l79n",
        "outputId": "7b018a9c-778f-406d-cba0-f0dc65001ebe"
      },
      "execution_count": null,
      "outputs": [
        {
          "output_type": "stream",
          "name": "stdout",
          "text": [
            "0\n",
            "1\n",
            "2\n",
            "3\n",
            "4\n",
            "5\n"
          ]
        }
      ]
    },
    {
      "cell_type": "code",
      "source": [
        "for i in [0, 1, 2, 3, 4, 5]:\n",
        "  print(i)"
      ],
      "metadata": {
        "id": "PMlnQApymEQa",
        "colab": {
          "base_uri": "https://localhost:8080/"
        },
        "outputId": "4699b8e7-152d-42ae-dc4d-85dc70ad9203"
      },
      "execution_count": null,
      "outputs": [
        {
          "output_type": "stream",
          "name": "stdout",
          "text": [
            "0\n",
            "1\n",
            "2\n",
            "3\n",
            "4\n",
            "5\n"
          ]
        }
      ]
    },
    {
      "cell_type": "code",
      "source": [
        "colors = ['red', 'green', 'blue', 'yellow']\n",
        "for i, color in enumerate(colors):\n",
        "    print(i, '-->', color)"
      ],
      "metadata": {
        "id": "NaNSkVROmETp",
        "colab": {
          "base_uri": "https://localhost:8080/"
        },
        "outputId": "cb9831ce-5ad7-4711-ce07-0510fa3c16d8"
      },
      "execution_count": null,
      "outputs": [
        {
          "output_type": "stream",
          "name": "stdout",
          "text": [
            "0 --> red\n",
            "1 --> green\n",
            "2 --> blue\n",
            "3 --> yellow\n"
          ]
        }
      ]
    },
    {
      "cell_type": "code",
      "source": [],
      "metadata": {
        "id": "-lxy0VKxqIiI"
      },
      "execution_count": null,
      "outputs": []
    },
    {
      "cell_type": "code",
      "source": [
        "x = 8"
      ],
      "metadata": {
        "id": "n_W3GtOjX_sx"
      },
      "execution_count": null,
      "outputs": []
    },
    {
      "cell_type": "code",
      "source": [
        "y = 2"
      ],
      "metadata": {
        "id": "jEd5Bb0DYAnf"
      },
      "execution_count": null,
      "outputs": []
    },
    {
      "cell_type": "code",
      "execution_count": null,
      "metadata": {
        "colab": {
          "base_uri": "https://localhost:8080/"
        },
        "id": "FfJaimDuXscG",
        "outputId": "e6a4e68e-ada0-4824-8638-9f7a6916dbca"
      },
      "outputs": [
        {
          "output_type": "stream",
          "name": "stdout",
          "text": [
            "x = 8 ymnogaem na y = 2 i palyhaem  16\n"
          ]
        }
      ],
      "source": [
        "print('x =', x, 'ymnogaem na y =', y, 'i palyhaem ', x * y)"
      ]
    },
    {
      "cell_type": "code",
      "source": [
        "print(1, 2, 3, 4, 5, sep = ' | ')"
      ],
      "metadata": {
        "colab": {
          "base_uri": "https://localhost:8080/"
        },
        "id": "NqYndbMHYxb4",
        "outputId": "b25a14e8-87b4-471a-e734-c5f01c6427c6"
      },
      "execution_count": null,
      "outputs": [
        {
          "output_type": "stream",
          "name": "stdout",
          "text": [
            "1 | 2 | 3 | 4 | 5\n"
          ]
        }
      ]
    },
    {
      "cell_type": "code",
      "source": [
        "print(1, 2, 3, 4, 5, sep = ' | \\n')"
      ],
      "metadata": {
        "colab": {
          "base_uri": "https://localhost:8080/"
        },
        "id": "czEW70S7Z7Zo",
        "outputId": "c678dafa-5ecc-48c9-84c1-8a9ef0cb6fe4"
      },
      "execution_count": null,
      "outputs": [
        {
          "output_type": "stream",
          "name": "stdout",
          "text": [
            "1 | \n",
            "2 | \n",
            "3 | \n",
            "4 | \n",
            "5\n"
          ]
        }
      ]
    },
    {
      "cell_type": "code",
      "source": [
        "print(1, 2, 3, 4, 5, end = ' | ')\n"
      ],
      "metadata": {
        "colab": {
          "base_uri": "https://localhost:8080/"
        },
        "id": "5ci5jAVkaPUH",
        "outputId": "95e219e5-80d2-4dcc-be10-0a513f58ffd6"
      },
      "execution_count": null,
      "outputs": [
        {
          "output_type": "stream",
          "name": "stdout",
          "text": [
            "1 2 3 4 5 | "
          ]
        }
      ]
    },
    {
      "cell_type": "code",
      "source": [
        "print(22, end = ' | ')"
      ],
      "metadata": {
        "colab": {
          "base_uri": "https://localhost:8080/"
        },
        "id": "6lrNObXSacNC",
        "outputId": "820867e9-cd7e-471a-93eb-0b3266cff533"
      },
      "execution_count": null,
      "outputs": [
        {
          "output_type": "stream",
          "name": "stdout",
          "text": [
            "22 | "
          ]
        }
      ]
    },
    {
      "cell_type": "code",
      "source": [
        "print(33, end = ' () () ')"
      ],
      "metadata": {
        "colab": {
          "base_uri": "https://localhost:8080/"
        },
        "id": "jEwzgUUkamso",
        "outputId": "7fca6f60-888f-4751-895c-94d7f76c2224"
      },
      "execution_count": null,
      "outputs": [
        {
          "output_type": "stream",
          "name": "stdout",
          "text": [
            "33 () () "
          ]
        }
      ]
    },
    {
      "cell_type": "code",
      "source": [
        "z = input()\n",
        "print('you entered:', z)"
      ],
      "metadata": {
        "colab": {
          "base_uri": "https://localhost:8080/"
        },
        "id": "0r3WF1Ebuakf",
        "outputId": "11ec3676-9123-4a98-aae7-795d27135ac0"
      },
      "execution_count": null,
      "outputs": [
        {
          "output_type": "stream",
          "name": "stdout",
          "text": [
            "8\n",
            "you entered: 8\n"
          ]
        }
      ]
    },
    {
      "cell_type": "code",
      "source": [
        "i = input('how are u?')\n",
        "ii = int(input('how old are u?'))\n",
        "iii = float(input('how much your salary?'))"
      ],
      "metadata": {
        "colab": {
          "base_uri": "https://localhost:8080/"
        },
        "id": "Cvm4NoLr1ILm",
        "outputId": "6b9f1cd0-ccd6-4dc2-9e05-e6b6ada17269"
      },
      "execution_count": null,
      "outputs": [
        {
          "name": "stdout",
          "output_type": "stream",
          "text": [
            "how are u?fine\n",
            "how old are u?88\n",
            "how much your salary?8\n"
          ]
        }
      ]
    },
    {
      "cell_type": "code",
      "source": [
        "name = input('Наименование товара: ')\n",
        "quantity = int(input('Сколько единец товара вы желаете приобрести? '))\n",
        "price = float(input('Какова цена за единицу? '))"
      ],
      "metadata": {
        "colab": {
          "base_uri": "https://localhost:8080/"
        },
        "id": "-Wa1asMO23Io",
        "outputId": "6ea5eb33-5ffe-43c6-b6ce-1ab69e32f3dd"
      },
      "execution_count": null,
      "outputs": [
        {
          "name": "stdout",
          "output_type": "stream",
          "text": [
            "Наименование товара: ss\n",
            "Сколько единец товара вы желаете приобрести? 9\n",
            "Какова цена за единицу? 98\n"
          ]
        }
      ]
    },
    {
      "cell_type": "code",
      "source": [
        "total = quantity * price\n",
        "print('Общая стоимость покупки составила:', total)"
      ],
      "metadata": {
        "colab": {
          "base_uri": "https://localhost:8080/"
        },
        "id": "ZVDVoIbf3o-P",
        "outputId": "a13756b3-a734-41e6-cc45-63be393e0a04"
      },
      "execution_count": null,
      "outputs": [
        {
          "output_type": "stream",
          "name": "stdout",
          "text": [
            "Общая стоимость покупки составила: 882.0\n"
          ]
        }
      ]
    },
    {
      "cell_type": "code",
      "source": [
        "a = 78.99\n",
        "b = -34.27\n",
        "c = 'БургерКинг'\n",
        "\n",
        "print(\"1 целое число: %d\" % a)\n",
        "print('2 чисор с плавающей точкой: %f' % b)\n",
        "print('3 несколько форматов в одной строке: %d and %.9f' % (a, b))\n",
        "print(\"4 целые числа с 8-ю знакоместами: %12i      and %12i\" % (a, b))\n",
        "print('5 %i %i' % (a, b))\n",
        "print('6 %i %10i' % (a, b))\n",
        "print(\"7 it's a big number: %.33f\" % a)\n",
        "print('8 sssssss %.22d' % a)\n",
        "print('9 формат строки с 10-ю знакоместями: %44s' % c)\n",
        "print('10 этот человек который его зовут %s сидел в %d бургеркингов' % ('Ahmed', 9))"
      ],
      "metadata": {
        "colab": {
          "base_uri": "https://localhost:8080/"
        },
        "id": "8epbqrMoaJcY",
        "outputId": "3b9bc567-f42f-4a6e-d560-bac42c8a18fc"
      },
      "execution_count": null,
      "outputs": [
        {
          "output_type": "stream",
          "name": "stdout",
          "text": [
            "1 целое число: 78\n",
            "2 чисор с плавающей точкой: -34.270000\n",
            "3 несколько форматов в одной строке: 78 and -34.270000000\n",
            "4 целые числа с 8-ю знакоместами:           78      and          -34\n",
            "5 78 -34\n",
            "6 78        -34\n",
            "7 it's a big number: 78.989999999999994884092302527278662\n",
            "8 sssssss 0000000000000000000078\n",
            "9 формат строки с 10-ю знакоместями:                                   БургерКинг\n",
            "10 этот человек который его зовут Ahmed сидел в 9 бургеркингов\n"
          ]
        }
      ]
    },
    {
      "cell_type": "code",
      "source": [
        "firstName = input('Введите имя: ')\n",
        "lastName = input('Введите фамилию: ')\n",
        "\n",
        "fullName = firstName + ' ' + lastName\n",
        "\n",
        "print(fullName)"
      ],
      "metadata": {
        "colab": {
          "base_uri": "https://localhost:8080/"
        },
        "id": "VI-MUnL-am8P",
        "outputId": "ba79f2f5-358e-4b1a-cbe1-87d42a6c3895"
      },
      "execution_count": null,
      "outputs": [
        {
          "output_type": "stream",
          "name": "stdout",
          "text": [
            "Введите имя: Ahmed\n",
            "Введите фамилию: Fadilsa\n",
            "Ahmed Fadilsa\n"
          ]
        }
      ]
    },
    {
      "cell_type": "code",
      "source": [
        "q1 = input('How are the work? ')\n",
        "q2 = input('Where are u now? ')\n",
        "q3 = input('How much u need? ')\n",
        "\n",
        "# print(q1 + '\\n' + q2 + '\\n' + q3)\n",
        "\n",
        "all_answers = q1 + ' ' + q2 + ' ' + q3"
      ],
      "metadata": {
        "colab": {
          "base_uri": "https://localhost:8080/"
        },
        "id": "vVGGh8Fby8_T",
        "outputId": "00d6dece-3baa-4f9c-df42-70a55b6ceca2"
      },
      "execution_count": null,
      "outputs": [
        {
          "name": "stdout",
          "output_type": "stream",
          "text": [
            "How are the work? I'm fine\n",
            "Where are u now? At work\n",
            "How much u need? Two thousnd\n"
          ]
        }
      ]
    },
    {
      "cell_type": "code",
      "source": [
        "print(len(all_answers))"
      ],
      "metadata": {
        "colab": {
          "base_uri": "https://localhost:8080/"
        },
        "id": "9ndIOwkC1AMc",
        "outputId": "62297813-daea-4857-88b9-57285a366f38"
      },
      "execution_count": null,
      "outputs": [
        {
          "output_type": "stream",
          "name": "stdout",
          "text": [
            "28\n"
          ]
        }
      ]
    },
    {
      "cell_type": "code",
      "source": [
        "# theNumOfAllChars = len(all_answers)\n",
        "# print('all charecters of %s , %s and %d are ' % len(all_answers))"
      ],
      "metadata": {
        "id": "owUK3TK_3JUQ"
      },
      "execution_count": null,
      "outputs": []
    },
    {
      "cell_type": "code",
      "source": [
        "firstName = input('type your first name: ')\n",
        "middleName = input('type your middle name: ')\n",
        "lastName = input('type your last name: ')\n",
        "\n",
        "print('your information to instegration: %s %s. %s.' % (lastName, firstName[0], middleName[0]))"
      ],
      "metadata": {
        "colab": {
          "base_uri": "https://localhost:8080/"
        },
        "id": "xKvtEPUilHJ5",
        "outputId": "e15f154a-9d9e-44f0-e021-9464f9edb2c3"
      },
      "execution_count": null,
      "outputs": [
        {
          "output_type": "stream",
          "name": "stdout",
          "text": [
            "type your first name: Ahmed\n",
            "type your middle name: Fadil\n",
            "type your last name: Mahmood\n",
            "your information to instegration: Mahmood A. F.\n"
          ]
        }
      ]
    },
    {
      "cell_type": "code",
      "source": [
        "line = \"hi, i'm your assistant\"\n",
        "\n",
        "print(line[0:2])\n",
        "print(line[:])\n",
        "print(line[:-1])"
      ],
      "metadata": {
        "colab": {
          "base_uri": "https://localhost:8080/"
        },
        "id": "IQO-KynSopRa",
        "outputId": "f9a5fbd3-9900-4816-9368-c645d6613f7e"
      },
      "execution_count": null,
      "outputs": [
        {
          "output_type": "stream",
          "name": "stdout",
          "text": [
            "hi\n",
            "hi, i'm your assistant\n",
            "hi, i'm your assistan\n"
          ]
        }
      ]
    },
    {
      "cell_type": "code",
      "source": [
        "text = 'HelloWorld  '\n",
        "print(text * 3)"
      ],
      "metadata": {
        "colab": {
          "base_uri": "https://localhost:8080/"
        },
        "id": "dioglnqcpnte",
        "outputId": "dd51a003-7cf1-40ab-dd4b-4d7461e1b2ce"
      },
      "execution_count": null,
      "outputs": [
        {
          "output_type": "stream",
          "name": "stdout",
          "text": [
            "HelloWorld  HelloWorld  HelloWorld  \n"
          ]
        }
      ]
    },
    {
      "cell_type": "code",
      "source": [],
      "metadata": {
        "id": "gKH-g1VZsbM9"
      },
      "execution_count": null,
      "outputs": []
    },
    {
      "cell_type": "code",
      "source": [
        "'text {paceHolder}.format(value)'"
      ],
      "metadata": {
        "id": "og7DRlFDsbXr"
      },
      "execution_count": null,
      "outputs": []
    },
    {
      "cell_type": "code",
      "source": [
        "name = 'ahmed'\n",
        "age = 27\n",
        "salary = 80000\n",
        "\n",
        "info = 'my name is {} and my age is {} year'.format(name, age)\n",
        "print(info)"
      ],
      "metadata": {
        "colab": {
          "base_uri": "https://localhost:8080/"
        },
        "id": "aoS7xpsRrz6e",
        "outputId": "e5f1ebec-e0c1-4f36-e77f-9e81270df0d9"
      },
      "execution_count": null,
      "outputs": [
        {
          "output_type": "stream",
          "name": "stdout",
          "text": [
            "my name is ahmed and my age is 27 year\n"
          ]
        }
      ]
    },
    {
      "cell_type": "code",
      "source": [
        "fos = ('name is {}, the age is {} and the salary is {}. so hi with {}').format(name, age, salary, name)\n",
        "print(fos)"
      ],
      "metadata": {
        "colab": {
          "base_uri": "https://localhost:8080/"
        },
        "id": "x5ydNJ5ssk5p",
        "outputId": "1acc9a4a-0d2a-4788-fa36-acc218018fd0"
      },
      "execution_count": null,
      "outputs": [
        {
          "output_type": "stream",
          "name": "stdout",
          "text": [
            "name is ahmed, the age is 27 and the salary is 80000. so hi with ahmed\n"
          ]
        }
      ]
    },
    {
      "cell_type": "code",
      "source": [
        "print('name is {}, the age is {} and the salary is {}. so hi with {}'.format(name, age, salary, name))\n"
      ],
      "metadata": {
        "colab": {
          "base_uri": "https://localhost:8080/"
        },
        "id": "X9YW1kOyttxs",
        "outputId": "4c274d45-ed14-450c-c386-580c4cb680a4"
      },
      "execution_count": null,
      "outputs": [
        {
          "output_type": "stream",
          "name": "stdout",
          "text": [
            "name is ahmed, the age is 27 and the salary is 80000. so hi with ahmed\n"
          ]
        }
      ]
    },
    {
      "cell_type": "code",
      "source": [
        "num = 88789.99999\n",
        "print('can u give {:.2f} to them'.format(num))\n",
        "print('the whole num: ${} only for TSS and {comp}'.format(num, comp='UUU'))"
      ],
      "metadata": {
        "colab": {
          "base_uri": "https://localhost:8080/"
        },
        "id": "RrfxWC2LwSQm",
        "outputId": "b8ff7f54-393d-41d5-d4ce-2e46c7ac9706"
      },
      "execution_count": null,
      "outputs": [
        {
          "output_type": "stream",
          "name": "stdout",
          "text": [
            "can u give 88790.00 to them\n",
            "the whole num: $88789.99999 only for TSS and UUU\n"
          ]
        }
      ]
    }
  ]
}