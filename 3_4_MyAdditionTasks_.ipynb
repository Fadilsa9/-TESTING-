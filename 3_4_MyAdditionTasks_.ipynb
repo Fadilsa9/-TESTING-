{
  "nbformat": 4,
  "nbformat_minor": 0,
  "metadata": {
    "colab": {
      "provenance": [],
      "authorship_tag": "ABX9TyMp79et0aCFQHet7+ctqBMM",
      "include_colab_link": true
    },
    "kernelspec": {
      "name": "python3",
      "display_name": "Python 3"
    },
    "language_info": {
      "name": "python"
    }
  },
  "cells": [
    {
      "cell_type": "markdown",
      "metadata": {
        "id": "view-in-github",
        "colab_type": "text"
      },
      "source": [
        "<a href=\"https://colab.research.google.com/github/Fadilsa9/-TESTING-/blob/main/3_4_MyAdditionTasks_.ipynb\" target=\"_parent\"><img src=\"https://colab.research.google.com/assets/colab-badge.svg\" alt=\"Open In Colab\"/></a>"
      ]
    },
    {
      "cell_type": "markdown",
      "source": [
        "Используем цикл for совместно с функцией range для вывода на экран всех значений, кратных трем, от нуля и до введенного пользователем числа, включая его:"
      ],
      "metadata": {
        "id": "7a58hLJpfjOW"
      }
    },
    {
      "cell_type": "code",
      "execution_count": 2,
      "metadata": {
        "colab": {
          "base_uri": "https://localhost:8080/"
        },
        "id": "r_Zgac61fBlu",
        "outputId": "cc2d4334-8835-4f98-b04b-ece50aa74417"
      },
      "outputs": [
        {
          "output_type": "stream",
          "name": "stdout",
          "text": [
            "Введите целое число: 21\n",
            "Все числа, кратные трем до 21 :\n",
            "3\n",
            "6\n",
            "9\n",
            "12\n",
            "15\n",
            "18\n",
            "21\n"
          ]
        }
      ],
      "source": [
        "limit = int(input(\"Введите целое число: \"))\n",
        "print(\"Все числа, кратные трем до\", limit, \":\")\n",
        "\n",
        "for i in range(3, limit + 1, 3):\n",
        "    print(i)"
      ]
    },
    {
      "cell_type": "code",
      "source": [
        "num = float(input(\"Введите число: \"))\n",
        "\n",
        "if num > 0:\n",
        "  # Определяем четное или не четное число\n",
        "  adjective = \" \"\n",
        "  if num % 2 == 0:\n",
        "    adjective = \"четное\"\n",
        "  else:\n",
        "    adjective = \"нечетное\"\n",
        "  res = \"Это \" + adjective + \" положительное число\"\n",
        "elif  num < 0:\n",
        "  res = \"Введено отрицательное число\"\n",
        "else:\n",
        "  res = \"Введен ноль\"\n",
        "\n",
        "print(res)"
      ],
      "metadata": {
        "colab": {
          "base_uri": "https://localhost:8080/"
        },
        "id": "hZffUZEnhRni",
        "outputId": "e7a23e89-41d1-45c0-f822-424a636714cf"
      },
      "execution_count": 9,
      "outputs": [
        {
          "output_type": "stream",
          "name": "stdout",
          "text": [
            "Введите число: 99\n",
            "Это нечетное положительное число\n"
          ]
        }
      ]
    },
    {
      "cell_type": "markdown",
      "source": [
        "Здесь ползователь будет вводить число, и получать сообщение, положительное или отрициательное число он ввел, до тех пор, пока не введет нель."
      ],
      "metadata": {
        "id": "RR108DeEp39F"
      }
    },
    {
      "cell_type": "code",
      "source": [
        "num = int(input(\"Inter a number (0 to exit) \"))\n",
        "\n",
        "while num != 0:\n",
        "    if num > 0:\n",
        "        print(\"This is a positive number\")\n",
        "    else:\n",
        "        print(\"This is a negative number\")\n",
        "\n",
        "    num = int(input(\"Inter a number (0 to exit) \"))"
      ],
      "metadata": {
        "colab": {
          "base_uri": "https://localhost:8080/"
        },
        "id": "FbErBTdAo-LS",
        "outputId": "50d7d509-45ad-43ee-cac7-cbe449d5f522"
      },
      "execution_count": 11,
      "outputs": [
        {
          "name": "stdout",
          "output_type": "stream",
          "text": [
            "Inter a number (0 to exit) 99\n",
            "This is a positive number\n",
            "Inter a number (0 to exit) -99\n",
            "This is a negative number\n",
            "Inter a number (0 to exit) 0\n"
          ]
        }
      ]
    }
  ]
}