{
  "nbformat": 4,
  "nbformat_minor": 0,
  "metadata": {
    "colab": {
      "provenance": [],
      "authorship_tag": "ABX9TyMV82ilFari8YMqX02+G8GU",
      "include_colab_link": true
    },
    "kernelspec": {
      "name": "python3",
      "display_name": "Python 3"
    },
    "language_info": {
      "name": "python"
    }
  },
  "cells": [
    {
      "cell_type": "markdown",
      "metadata": {
        "id": "view-in-github",
        "colab_type": "text"
      },
      "source": [
        "<a href=\"https://colab.research.google.com/github/Fadilsa9/-TESTING-/blob/main/%E2%99%A3_Notes_and_Additional_lessons_.ipynb\" target=\"_parent\"><img src=\"https://colab.research.google.com/assets/colab-badge.svg\" alt=\"Open In Colab\"/></a>"
      ]
    },
    {
      "cell_type": "markdown",
      "source": [
        "Functions: https://www.geeksforgeeks.org/python-functions/"
      ],
      "metadata": {
        "id": "ErErBAD3nj38"
      }
    },
    {
      "cell_type": "markdown",
      "source": [
        "map() https://monica.im/home/chat/Monica/monica?convId=conv%3A5b300eea-9252-4905-9de0-8ae1b0c4b1a7"
      ],
      "metadata": {
        "id": "353ZefnIc6Ag"
      }
    },
    {
      "cell_type": "code",
      "source": [
        "range()    #https://www.w3schools.com/python/ref_func_range.asp\n",
        "\n",
        "len()      #https://www.w3schools.com/python/ref_func_len.asp\n",
        "\n",
        "lambda     #https://monica.im/home/chat/Monica/monica?convId=conv%3Ae09046fb-bee5-4937-9ff3-251e499a5dcb\n",
        "\n",
        "sorted()   #https://monica.im/home/memo/9c9261c9-66ff-4161-8250-eecbf530450b\n",
        "\n",
        "# Python string formatting:  #https://www.w3schools.com/python/python_string_formatting.asp"
      ],
      "metadata": {
        "id": "x7cYfDTadkWg"
      },
      "execution_count": null,
      "outputs": []
    },
    {
      "cell_type": "code",
      "source": [
        "# Программа Python для нахождения частного и остатка\n",
        "# Python program to find the quotient and remainder\n",
        "# برنامج بايثون لإيجاد حاصل القسمة والباقي\n",
        "# حاصل القسمه والباقي"
      ],
      "metadata": {
        "id": "rNlPC4OiQ5Mh"
      },
      "execution_count": null,
      "outputs": []
    },
    {
      "cell_type": "code",
      "source": [
        "# десятичный логарифм  #https://monica.im/home/chat/Monica/monica?convId=conv%3A83bd688e-6be3-4c01-9a4c-233ffbae8a70\n",
        "# //                   #https://monica.im/home/chat/Monica/monica?convId=conv%3Afef0b057-25bc-4330-a2b1-51f647d96884"
      ],
      "metadata": {
        "id": "liqotdo-SZGO"
      },
      "execution_count": null,
      "outputs": []
    },
    {
      "cell_type": "code",
      "source": [],
      "metadata": {
        "id": "WWz-BNm9TdY5"
      },
      "execution_count": null,
      "outputs": []
    }
  ]
}